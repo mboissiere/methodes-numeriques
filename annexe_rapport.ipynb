{
 "cells": [
  {
   "cell_type": "code",
   "execution_count": 26,
   "metadata": {},
   "outputs": [],
   "source": [
    "# Imports\n",
    "import numpy as np\n",
    "import matplotlib.pyplot as plt\n",
    "from scipy.optimize import fsolve"
   ]
  },
  {
   "cell_type": "code",
   "execution_count": 27,
   "metadata": {},
   "outputs": [],
   "source": [
    "# Paramètres\n",
    "nx, ny = 100, 50 # Mise à jour des valeurs de nx et ny\n",
    "Lx, Ly = 10, 5   # Mise à jour des valeurs de Lx et Ly\n",
    "nt = 10000\n",
    "dt = 50\n",
    "dx = Lx/(nx-1)\n",
    "dy = Ly/(ny-1)\n",
    "h = 10\n",
    "T0, T1, Ta = 273.15, 373.15, 293.15  #Températures en Kelvin (initiale, au bord, et ambiante)\n",
    "k = 380.0  # Conductivité thermique du cuivre en W/(m·K)\n",
    "rho = 8960.0  # Densité du cuivre en kg/m³\n",
    "cp = 385.0  # Capacité thermique du cuivre en J/(kg·K)\n",
    "alpha = k / (rho * cp)  # Diffusivité thermique du cuivre en m²/s"
   ]
  },
  {
   "cell_type": "code",
   "execution_count": 28,
   "metadata": {},
   "outputs": [
    {
     "data": {
      "image/png": "[encoded data removed]",
      "text/plain": [
       "<Figure size 432x432 with 2 Axes>"
      ]
     },
     "metadata": {
      "needs_background": "light"
     },
     "output_type": "display_data"
    }
   ],
   "source": [
    "# Definition of functions\n",
    "def equation(x, L, h, l):\n",
    "    return x * np.tan(L * x) - h / l\n",
    "\n",
    "def find_first_n_solutions(L, h, l, n):\n",
    "    solutions = []\n",
    "    guess = 0.1\n",
    "    while len(solutions) < n:\n",
    "        solution = fsolve(equation, guess, args=(L, h, l))\n",
    "        solution = solution[0]  # Convertir la solution en un nombre réel\n",
    "        if not any(abs(sol - solution) < 1e-7 for sol in solutions):  # Vérifier si la solution est déjà dans la liste\n",
    "            solutions.append(solution)\n",
    "        guess += 0.1  # Augmenter la supposition initiale pour la prochaine solution\n",
    "    return solutions\n",
    "\n",
    "def serie(Lx, Ly, h, l, x, y, n):\n",
    "    sum = 0\n",
    "    for k in range(0, n+1):\n",
    "        a = liste_solutions[k]\n",
    "        x_k = (np.cos(a*x)*np.cosh(a*(Ly-y)))/(((a**2+(h/l)**2)*Lx+h/l)*np.cos(a*Lx)*np.cosh(a*Ly))\n",
    "        # print(x_k)\n",
    "        sum += x_k\n",
    "    # print(\"sum =\", sum)\n",
    "    return sum\n",
    "\n",
    "def generate_analytical_profile(nx, ny, Lx, Ly, T1, Ta, h, k, n):\n",
    "    # Définir les pas en x et y\n",
    "    dx = 0.15*Lx/(nx-1)\n",
    "    dy = 0.15*Ly/(ny-1)\n",
    "\n",
    "    # Créer des grilles de points x et y\n",
    "    x = np.linspace(0, Lx, nx)\n",
    "    y = np.linspace(0, Ly, ny)\n",
    "\n",
    "    # Initialiser le profil analytique\n",
    "    T_analytical = np.zeros((nx, ny))\n",
    "\n",
    "    # Calculer le profil analytique en utilisant une formule spécifique\n",
    "    for i in range(nx):\n",
    "        for j in range(ny):\n",
    "            x = i/nx\n",
    "            y = j/ny\n",
    "            # Mettre en œuvre la formule analytique en fonction de x, y et d'autres paramètres\n",
    "            sum = serie(Lx, Ly, h, k, x, y, n)\n",
    "            T_analytical[i, j] = (Ta + 2*(T1-Ta)*sum*10/401)\n",
    "\n",
    "    # Tracer le profil analytique\n",
    "    fig, ax = plt.subplots(figsize=(6, 6))\n",
    "    im = ax.imshow(T_analytical, cmap='hot', interpolation='nearest')\n",
    "    colorbar = fig.colorbar(im, ax=ax)\n",
    "    colorbar.set_label('Température')\n",
    "    # plt.imshow(T_analytical, cmap='hot', origin='lower', extent=[0, Lx, 0, Ly])\n",
    "    # plt.colorbar(label='Température')\n",
    "    # plt.xlabel('x')\n",
    "    # plt.ylabel('y')\n",
    "    # plt.title('Profil de température analytique')\n",
    "    # plt.gca().set_ylim(50, 0)\n",
    "    plt.show()\n",
    "    return T_analytical\n",
    "\n",
    "# Méthode TDMA\n",
    "def TDMA(a, b, c, d):\n",
    "    n = len(d)\n",
    "    w = np.zeros(n-1,float)\n",
    "    g = np.zeros(n, float)\n",
    "    p = np.zeros(n,float)\n",
    "\n",
    "    w[0] = c[0]/b[0]\n",
    "    g[0] = d[0]/b[0]\n",
    "\n",
    "    for i in range(1,n-1):\n",
    "        w[i] = c[i]/(b[i] - a[i-1]*w[i-1])\n",
    "    for i in range(1,n):\n",
    "        g[i] = (d[i] - a[i-1]*g[i-1])/(b[i] - a[i-1]*w[i-1])\n",
    "    p[n-1] = g[n-1]\n",
    "    for i in range(n-1,0,-1):\n",
    "        p[i-1] = g[i-1] - w[i-1]*p[i]\n",
    "    return p\n",
    "\n",
    "# Méthode ADI\n",
    "def ADI_method(T, nx, ny, nt, dt, dx, dy, alpha, T1, h, Ta, k):\n",
    "    it = 0\n",
    "    while it < nt:\n",
    "        T_old = T.copy()\n",
    "\n",
    "        # Étape 1 : résoudre dans la direction x\n",
    "        for j in range(1, ny-1):\n",
    "            a = np.full(nx-1, -alpha*dt/(2*dx**2))\n",
    "            b = np.full(nx-1, 1 + alpha*dt/(dx**2))\n",
    "            c = np.full(nx-1, -alpha*dt/(2*dx**2))\n",
    "            d = T_old[1:-1, j] + alpha*dt/(2*dy**2) * (T_old[1:-1, j+1] - 2*T_old[1:-1, j] + T_old[1:-1, j-1])\n",
    "\n",
    "            # Appliquer les conditions aux limites\n",
    "            d[0] += alpha*dt/(2*dx**2) * T_old[0, j]\n",
    "            d[-1] += alpha*dt/(2*dx**2) * (2*dx*h*(Ta-T_old[-1, j])/(2*dx*h+alpha) + T_old[-2, j])\n",
    "\n",
    "            T[1:-1, j] = TDMA(a, b, c, d)\n",
    "\n",
    "        # Appliquer la condition de conducto-convection à x = Lx\n",
    "        T[-1, :] = (2*dx*h*Ta + k*T[-2, :]) / (2*dx*h + k)\n",
    "\n",
    "        T_old = T.copy()\n",
    "\n",
    "        # Étape 2 : résoudre dans la direction y\n",
    "        for i in range(1, nx-1):\n",
    "            a = np.full(ny-1, -alpha*dt/(2*dy**2))\n",
    "            b = np.full(ny-1, 1 + alpha*dt/(dy**2))\n",
    "            c = np.full(ny-1, -alpha*dt/(2*dy**2))\n",
    "            d = T_old[i, 1:-1] + alpha*dt/(2*dx**2) * (T_old[i+1, 1:-1] - 2*T_old[i, 1:-1] + T_old[i-1, 1:-1])\n",
    "\n",
    "            # Appliquer les conditions aux limites\n",
    "            d[0] += alpha*dt/(2*dy**2) * T1\n",
    "            d[-1] += alpha*dt/(2*dy**2) * T_old[i, -2]\n",
    "\n",
    "            T[i, 1:-1] = TDMA(a, b, c, d)\n",
    "        it += dt\n",
    "\n",
    "    return T\n",
    "\n",
    "# Solution numérique\n",
    "\n",
    "# # # Initialiser le profil de température à T0\n",
    "T = np.full((nx, ny), T0)\n",
    "\n",
    "# Appliquer les conditions aux limites initiales\n",
    "T[:, 0] = T1\n",
    "T[0, :] = T[1, :]\n",
    "T[-1, :] = T[-2, :]\n",
    "T[:, -1] = (2*dy*h*Ta + k*T[:, -2]) / (2*dy*h + k)\n",
    "\n",
    "# Exécuter la méthode ADI\n",
    "T = ADI_method(T, nx, ny, nt, dt, dx, dy, alpha, T1, h, Ta, k)\n",
    "\n",
    "# Tracer le profil de température final\n",
    "fig, ax = plt.subplots(figsize=(6, 6))\n",
    "im = ax.imshow(T, cmap='hot', interpolation='nearest')\n",
    "colorbar = fig.colorbar(im, ax=ax)\n",
    "colorbar.set_label('Température')\n",
    "ax.set_title(f\"Profil de température final après {nt} étapes\")\n",
    "plt.show()\n",
    "\n",
    "#print(T)"
   ]
  },
  {
   "cell_type": "code",
   "execution_count": 29,
   "metadata": {},
   "outputs": [
    {
     "data": {
      "image/png": "[encoded data removed]",
      "text/plain": [
       "<Figure size 432x432 with 2 Axes>"
      ]
     },
     "metadata": {
      "needs_background": "light"
     },
     "output_type": "display_data"
    }
   ],
   "source": [
    "# Solution analytique\n",
    "n_solutions = 11\n",
    "liste_solutions = find_first_n_solutions(Lx, h, k, n_solutions)\n",
    "# print(liste_solutions)\n",
    "\n",
    "T_analytical = generate_analytical_profile(nx, ny, Lx, Ly, T1, Ta, h, k, 3)"
   ]
  },
  {
   "cell_type": "code",
   "execution_count": 30,
   "metadata": {},
   "outputs": [
    {
     "name": "stdout",
     "output_type": "stream",
     "text": [
      "[[-4.25641524 95.74089667 95.73817239 ... 95.59150218 95.58794966\n",
      "  95.47755533]\n",
      " [-4.2580182  47.48718343 68.58735344 ... 95.56995587 95.55257117\n",
      "  95.47721674]\n",
      " [-4.25961166 29.12825559 51.65437286 ... 95.55416476 95.53195068\n",
      "  95.47687916]\n",
      " ...\n",
      " [-4.34477105 19.97426129 37.85150841 ... 87.87501929 89.66978218\n",
      "  95.45761688]\n",
      " [-4.34480091 24.475078   42.43650612 ... 85.71594812 87.38507692\n",
      "  95.45760977]\n",
      " [-3.92175427 30.1809092  46.23362449 ... 84.62856401 86.97593547\n",
      "  95.35240823]]\n"
     ]
    },
    {
     "data": {
      "image/png": "[encoded data removed]",
      "text/plain": [
       "<Figure size 432x288 with 2 Axes>"
      ]
     },
     "metadata": {
      "needs_background": "light"
     },
     "output_type": "display_data"
    }
   ],
   "source": [
    "# Comparaison\n",
    "T_inverse = np.flipud(T_analytical)\n",
    "Delta = T_inverse - T\n",
    "print(Delta)\n",
    "\n",
    "plt.imshow(Delta, origin='lower')\n",
    "plt.colorbar(label='Valeurs de T')\n",
    "plt.xlabel('Axe x')\n",
    "plt.ylabel('Axe y (inversé)')\n",
    "plt.title('Delta')\n",
    "plt.show()"
   ]
  }
 ],
 "metadata": {
  "kernelspec": {
   "display_name": "Python 3",
   "language": "python",
   "name": "python3"
  },
  "language_info": {
   "codemirror_mode": {
    "name": "ipython",
    "version": 3
   },
   "file_extension": ".py",
   "mimetype": "text/x-python",
   "name": "python",
   "nbconvert_exporter": "python",
   "pygments_lexer": "ipython3",
   "version": "3.8.3"
  }
 },
 "nbformat": 4,
 "nbformat_minor": 2
}
