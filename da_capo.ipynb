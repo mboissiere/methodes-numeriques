{
 "cells": [
  {
   "cell_type": "markdown",
   "metadata": {},
   "source": [
    "## Importation des modules"
   ]
  },
  {
   "cell_type": "code",
   "execution_count": 55,
   "metadata": {},
   "outputs": [],
   "source": [
    "# -*- coding: utf-8 -*-\n",
    "import numpy as np\n",
    "from scipy.optimize import fsolve"
   ]
  },
  {
   "cell_type": "markdown",
   "metadata": {},
   "source": [
    "## Résolution numérique"
   ]
  },
  {
   "cell_type": "markdown",
   "metadata": {},
   "source": [
    "### Définition des paramètres géométriques"
   ]
  },
  {
   "cell_type": "code",
   "execution_count": 56,
   "metadata": {},
   "outputs": [],
   "source": [
    "L_x, L_y = 10, 5 # Longueur et largeur de notre domaine d'étude\n",
    "N_x, N_y = 100, 50 # Nombre de mailles selon x et selon y"
   ]
  },
  {
   "cell_type": "markdown",
   "metadata": {},
   "source": [
    "Attention à ne pas confondre **nombre de mailles** et **nombre de points**.\n",
    "\n",
    "Typiquement, on a choisi de représenter l'intervalle continu $[0, L_x]$ par l'intervalle discret de points $\\llbracket 0, N_x \\rrbracket$. Ainsi, il y a bien $N_x$ **mailles**, de la forme $[x_i, x_{i+1}]$, mais **Nx + 1 points**.\n",
    "\n",
    "De même, selon y, il y a $N_y$ **mailles** et donc $N_y+1$ **points**."
   ]
  },
  {
   "cell_type": "code",
   "execution_count": 57,
   "metadata": {},
   "outputs": [],
   "source": [
    "dx = L_x/N_x # Taille d'une maille selon x\n",
    "dy = L_y/N_y # Taille d'une maille selon y"
   ]
  },
  {
   "cell_type": "code",
   "execution_count": 58,
   "metadata": {},
   "outputs": [],
   "source": [
    "dt = 1 # Choix du pas de temps de notre simulation\n",
    "N_t = 1000 # Temps maximal de notre simulation"
   ]
  },
  {
   "cell_type": "markdown",
   "metadata": {},
   "source": [
    "### Définition des paramètres physiques\n",
    "\n",
    "Posons d'abord les conditions limites de notre problème."
   ]
  },
  {
   "cell_type": "code",
   "execution_count": 59,
   "metadata": {},
   "outputs": [],
   "source": [
    "T_0 = 300  # Température initiale du corps étudié, en Kelvin (environ 27°C)\n",
    "# Il est conseillé de garder 300 K : la densité et la capacité thermique d'un corps \n",
    "# sont thermosensibles, et plus loin on les prendra à 300 K.\n",
    "\n",
    "T_1 = 323.15  # Température imposée au bord y=0, en Kelvin (50°C)\n",
    "T_a = 273.15  # Température ambiante du fluide en x=Lx, en Kelvin (0°C)"
   ]
  },
  {
   "cell_type": "markdown",
   "metadata": {},
   "source": [
    "Profitons-en pour donner quelques valeurs courantes pour des corps physiques usuels. \n",
    "\n",
    "En vérité, toutes les grandeurs qui peuvent servir à caractériser le comportement thermique d'un matériau ($\\lambda$, $\\rho$, $c_p$) sont elles-même thermosensibles. Pour se simplifier la vie, on les supposera constantes et égales à leur valeur à 300 K.\n",
    "\n",
    "*(source : Transferts thermiques - J. Taine, F. Enguehard, E. Iacona - Éditions Dunod)*"
   ]
  },
  {
   "cell_type": "code",
   "execution_count": 60,
   "metadata": {},
   "outputs": [],
   "source": [
    "class CorpsPhysique:\n",
    "    def __init__(self, name, lambd, rho, cp):\n",
    "        self.name = name  # Nom du corps physique\n",
    "        self.lambd = lambd  # Conductivité thermique en W/(m·K)\n",
    "        self.rho = rho  # Densité en kg/m³\n",
    "        self.cp = cp  # Capacité thermique en J/(kg·K)\n",
    "    \n",
    "    def alpha(self):\n",
    "        return self.lambd / (self.rho * self.cp)\n",
    "\n",
    "air = CorpsPhysique(\"air\", 0.0263, 1.1614, 1007)  # Air à 300 K\n",
    "cuivre = CorpsPhysique(\"cuivre\", 399, 8954, 383)  # Cuivre à 300 K\n",
    "\n",
    "# Pour rajouter de nouveaux corps physiques, c'est ici.\n"
   ]
  },
  {
   "cell_type": "markdown",
   "metadata": {},
   "source": [
    "Le calcul exact d'un coefficient de conducto-convection peut être délicat, et faire intervenir des nombres de Prandtl, Nusselt, la dilatation thermique et la gravité... Pour faire simple, nous imposerons un ordre de grandeur de h qu'on admettra comme cohérente pour de la convection naturelle laminaire sur une plaque plane (un mur)."
   ]
  },
  {
   "cell_type": "code",
   "execution_count": 61,
   "metadata": {},
   "outputs": [],
   "source": [
    "# Si on veut changer le coefficient de convection extérieure, c'est ici.\n",
    "h = 10 # en W/(m²·K)\n",
    "\n",
    "# Si on veut changer le corps étudié, c'est ici.\n",
    "corps = air"
   ]
  },
  {
   "cell_type": "code",
   "execution_count": 62,
   "metadata": {},
   "outputs": [
    {
     "name": "stdout",
     "output_type": "stream",
     "text": [
      "Temps caractéristique de conduction selon x: 4446881.37\n",
      "Temps caractéristique de conduction selon y: 1111720.34\n",
      "\n",
      "Temps caractéristique de convection selon x: 444688.14\n",
      "Temps caractéristique de convection selon y: 111172.03\n",
      "\n",
      "Nombre de Biot selon x: 3802.28\n",
      "Nombre de Biot selon y: 1901.14\n",
      "\n",
      "Nombre de Fourier selon x: 0.00225\n",
      "Nombre de Fourier selon y: 0.00225\n"
     ]
    }
   ],
   "source": [
    "lambd, alpha = corps.lambd, corps.alpha()\n",
    "\n",
    "# Calcul du temps caractéristique de conduction selon x\n",
    "t_cond_x = L_x**2 / alpha\n",
    "print(f\"Temps caractéristique de conduction selon x: {t_cond_x:.2f}\")\n",
    "\n",
    "# Calcul du temps caractéristique de conduction selon y\n",
    "t_cond_y = L_y**2 / alpha\n",
    "print(f\"Temps caractéristique de conduction selon y: {t_cond_y:.2f}\")\n",
    "\n",
    "print()\n",
    "\n",
    "# Calcul du temps caractéristique de convection selon x\n",
    "t_conv_x = t_cond_x / h\n",
    "print(f\"Temps caractéristique de convection selon x: {t_conv_x:.2f}\")\n",
    "\n",
    "# Calcul du temps caractéristique de convection selon y\n",
    "t_conv_y = t_cond_y / h\n",
    "print(f\"Temps caractéristique de convection selon y: {t_conv_y:.2f}\")\n",
    "\n",
    "print()\n",
    "\n",
    "# Calcul du nombre de Biot selon x\n",
    "Bi_x = h * L_x / lambd\n",
    "print(f\"Nombre de Biot selon x: {Bi_x:.2f}\")\n",
    "\n",
    "# Calcul du nombre de Biot selon y\n",
    "Bi_y = h * L_y / lambd\n",
    "print(f\"Nombre de Biot selon y: {Bi_y:.2f}\")\n",
    "\n",
    "print()\n",
    "\n",
    "# Calcul du nombre de Fourier selon x\n",
    "Fo_x = alpha * dt / dx**2\n",
    "print(f\"Nombre de Fourier selon x: {Fo_x:.5f}\")\n",
    "\n",
    "# Calcul du nombre de Fourier selon y\n",
    "Fo_y = alpha * dt / dy**2\n",
    "print(f\"Nombre de Fourier selon y: {Fo_y:.5f}\")\n"
   ]
  },
  {
   "cell_type": "markdown",
   "metadata": {},
   "source": [
    "## Résolution analytique"
   ]
  },
  {
   "cell_type": "markdown",
   "metadata": {},
   "source": [
    "L'énoncé indique que la solution analytique est donnée par la formule suivante :\n",
    "\n",
    "$\\displaystyle T(x,y) = T_a + \\frac{2h}{\\lambda} (T_1 - T_a) \\sum_{n=1}^\\infty \\frac{\\cos(\\alpha_n x) \\cosh(\\alpha_n (L_y - y))}{[(\\alpha_n^2 + \\beta^2) L_x + \\beta] \\cos(\\alpha_n L_x) \\cosh(\\alpha_n L_x)}$\n",
    "\n",
    "où $\\alpha_n$ désigne la nième solution positive de l'équation $\\alpha \\tan(L_x \\alpha) = \\beta = \\displaystyle \\frac{h}{\\lambda}$.\n",
    "\n",
    "Commençons donc par rédiger une fonction qui, à $n$ donné, permet d'obtenir $\\alpha_n$ :"
   ]
  },
  {
   "cell_type": "code",
   "execution_count": 76,
   "metadata": {},
   "outputs": [
    {
     "name": "stdout",
     "output_type": "stream",
     "text": [
      "[2.220446049250313e-16, 4021.552755860297, -29.680260464569585, 41.30112361932847, 31.564723637850133, 26.539489339174658, 32.19287811715511, 19.315719148658978, 40.35889080550076, -18.059411699588175]\n"
     ]
    },
    {
     "name": "stderr",
     "output_type": "stream",
     "text": [
      "c:\\Users\\matte\\anaconda3\\lib\\site-packages\\scipy\\optimize\\_minpack_py.py:178: RuntimeWarning: The iteration is not making good progress, as measured by the \n",
      "  improvement from the last ten iterations.\n",
      "  warnings.warn(msg, RuntimeWarning)\n"
     ]
    }
   ],
   "source": [
    "beta = h / lambd\n",
    "\n",
    "def f(a):\n",
    "    # Fonction dont on cherche les zéros - Ici la variable est nommée a\n",
    "    # et non alpha, pour éviter toute confusion avec la diffusivité thermique \n",
    "    return a * np.tan(L_x * a) - beta\n",
    "\n",
    "\n",
    "\n",
    "def n_premieres_solutions(n):\n",
    "    # Liste pour stocker les solutions\n",
    "    solutions = []\n",
    "\n",
    "    # Estimation initiale de la solution - plus petit flottant positif\n",
    "    a0 = np.finfo(float).eps\n",
    "\n",
    "    while len(solutions) < n:\n",
    "        solution = fsolve(f, a0)[0]\n",
    "\n",
    "        # Si la solution est déjà dans la liste, l'ignorer\n",
    "        if solution in solutions:\n",
    "            continue\n",
    "\n",
    "        # Ajout de la solution à la liste\n",
    "        solutions.append(solution)\n",
    "\n",
    "        # Mise à jour de l'estimation initiale pour la prochaine itération\n",
    "        a0 += np.pi / L_x\n",
    "\n",
    "\n",
    "    return solutions\n",
    "\n",
    "print(n_premieres_solutions(10))\n",
    "\n"
   ]
  },
  {
   "cell_type": "code",
   "execution_count": 75,
   "metadata": {},
   "outputs": [
    {
     "name": "stdout",
     "output_type": "stream",
     "text": [
      "[10.207492198353366, 30.308414812432122, 36.589960795607816, 6.75264844541422, -3.2818666268427266, 7.988684380277446, 1.7274216507058664, -6.107016070902613, -11.777875859751639, 1.4133449860960197]\n"
     ]
    },
    {
     "name": "stderr",
     "output_type": "stream",
     "text": [
      "c:\\Users\\matte\\anaconda3\\lib\\site-packages\\scipy\\optimize\\_minpack_py.py:178: RuntimeWarning: The iteration is not making good progress, as measured by the \n",
      "  improvement from the last five Jacobian evaluations.\n",
      "  warnings.warn(msg, RuntimeWarning)\n"
     ]
    }
   ],
   "source": [
    "# Definition of functions\n",
    "def equation(x, L, h, l):\n",
    "    return x * np.tan(L * x) - h / l\n",
    "\n",
    "def find_first_n_solutions(L, h, l, n):\n",
    "    solutions = []\n",
    "    guess = 0.1\n",
    "    while len(solutions) < n:\n",
    "        solution = fsolve(equation, guess, args=(L, h, l))\n",
    "        solution = solution[0]  # Convertir la solution en un nombre réel\n",
    "        if not any(abs(sol - solution) < 1e-7 for sol in solutions):  # Vérifier si la solution est déjà dans la liste\n",
    "            solutions.append(solution)\n",
    "        guess += 0.1  # Augmenter la supposition initiale pour la prochaine solution\n",
    "        # print(solutions)\n",
    "    return solutions\n",
    "\n",
    "print(find_first_n_solutions(L_x, h, lambd, 10))\n",
    "\n",
    "def serie(Lx, Ly, h, l, x, y, n, liste_solutions):\n",
    "    sum = 0\n",
    "    for k in range(0, n+1):\n",
    "        a = liste_solutions[k]\n",
    "        x_k = (np.cos(a*y)*np.cosh(a*(Ly-x)))/(((a**2+(h/l)**2)*Lx+h/l)*np.cos(a*Lx)*np.cosh(a*Ly))\n",
    "        sum += x_k\n",
    "    # print(\"sum =\", sum)\n",
    "    return sum\n",
    "\n",
    "def generate_analytical_profile(nx, ny, Lx, Ly, T1, Ta, h, k, n, liste_solutions):\n",
    "\n",
    "    # Créer des grilles de points x et y\n",
    "    x = np.linspace(0, Lx, nx)\n",
    "    y = np.linspace(0, Ly, ny)\n",
    "\n",
    "    # Initialiser le profil analytique\n",
    "    T_analytical = np.zeros((nx, ny))\n",
    "\n",
    "    # Calculer le profil analytique en utilisant une formule spécifique\n",
    "    for i in range(ny):\n",
    "        for j in range(nx):\n",
    "            x = 1 - i/nx\n",
    "            y = 1 - j/ny\n",
    "            # Mettre en œuvre la formule analytique en fonction de x, y et d'autres paramètres\n",
    "            sum = serie(Lx, Ly, h, k, x, y, n, liste_solutions)\n",
    "            T_analytical[i, j] = (Ta + 2*(T1-Ta)*sum*h/k)\n",
    "\n",
    "    # Tracer le profil analytique\n",
    "    fig, ax = plt.subplots(figsize=(6, 6))\n",
    "    im = ax.imshow(T_analytical, cmap='hot', interpolation='nearest')\n",
    "    colorbar = fig.colorbar(im, ax=ax)\n",
    "    colorbar.set_label('Température')\n",
    "    # plt.imshow(T_analytical, cmap='hot', origin='lower', extent=[0, Lx, 0, Ly])\n",
    "    # plt.colorbar(label='Température')\n",
    "    # plt.xlabel('x')\n",
    "    # plt.ylabel('y')\n",
    "    plt.title('Profil de température analytique')\n",
    "    # plt.gca().set_ylim(50, 0)\n",
    "    plt.show()\n",
    "    return T_analytical"
   ]
  }
 ],
 "metadata": {
  "kernelspec": {
   "display_name": "Python 3",
   "language": "python",
   "name": "python3"
  },
  "language_info": {
   "codemirror_mode": {
    "name": "ipython",
    "version": 3
   },
   "file_extension": ".py",
   "mimetype": "text/x-python",
   "name": "python",
   "nbconvert_exporter": "python",
   "pygments_lexer": "ipython3",
   "version": "3.8.3"
  }
 },
 "nbformat": 4,
 "nbformat_minor": 2
}
