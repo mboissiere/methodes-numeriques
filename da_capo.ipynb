{
 "cells": [
  {
   "cell_type": "markdown",
   "metadata": {},
   "source": [
    "# Importation des modules"
   ]
  },
  {
   "cell_type": "code",
   "execution_count": 245,
   "metadata": {},
   "outputs": [],
   "source": [
    "import numpy as np\n",
    "from scipy.optimize import fsolve\n",
    "import matplotlib.pyplot as plt"
   ]
  },
  {
   "cell_type": "markdown",
   "metadata": {},
   "source": [
    "# Définition des paramètres"
   ]
  },
  {
   "cell_type": "markdown",
   "metadata": {},
   "source": [
    "### Paramètres géométriques"
   ]
  },
  {
   "cell_type": "code",
   "execution_count": 246,
   "metadata": {},
   "outputs": [],
   "source": [
    "L_x, L_y = 10, 5 # Longueur et largeur de notre domaine d'étude\n",
    "N_x, N_y = 100, 50 # Nombre de mailles selon x et selon y"
   ]
  },
  {
   "cell_type": "markdown",
   "metadata": {},
   "source": [
    "Attention à ne pas confondre **nombre de mailles** et **nombre de points**.\n",
    "\n",
    "Typiquement, on a choisi de représenter l'intervalle continu $[0, L_x]$ par l'intervalle discret de points $\\llbracket 0, N_x \\rrbracket$. Ainsi, il y a bien $N_x$ **mailles**, de la forme $[x_i, x_{i+1}]$, mais **Nx + 1 points**.\n",
    "\n",
    "De même, selon y, il y a $N_y$ **mailles** et donc $N_y+1$ **points**."
   ]
  },
  {
   "cell_type": "code",
   "execution_count": 247,
   "metadata": {},
   "outputs": [],
   "source": [
    "dx = L_x/N_x # Taille d'une maille selon x\n",
    "dy = L_y/N_y # Taille d'une maille selon y"
   ]
  },
  {
   "cell_type": "code",
   "execution_count": 248,
   "metadata": {},
   "outputs": [],
   "source": [
    "dt = 1 # Choix du pas de temps de notre simulation\n",
    "N_t = 1000 # Temps maximal de notre simulation"
   ]
  },
  {
   "cell_type": "markdown",
   "metadata": {},
   "source": [
    "### Paramètres physiques\n",
    "\n",
    "Posons d'abord les conditions limites de notre problème."
   ]
  },
  {
   "cell_type": "code",
   "execution_count": 249,
   "metadata": {},
   "outputs": [],
   "source": [
    "T_0 = 300  # Température initiale du corps étudié, en Kelvin (environ 27°C)\n",
    "# Il est conseillé de garder 300 K : la densité et la capacité thermique d'un corps \n",
    "# sont thermosensibles, et plus loin on les prendra à 300 K.\n",
    "\n",
    "T_1 = 323.15  # Température imposée au bord y=0, en Kelvin (50°C)\n",
    "T_a = 273.15  # Température ambiante du fluide en x=Lx, en Kelvin (0°C)"
   ]
  },
  {
   "cell_type": "markdown",
   "metadata": {},
   "source": [
    "Profitons-en pour donner quelques valeurs courantes pour des corps physiques usuels. \n",
    "\n",
    "En vérité, toutes les grandeurs qui peuvent servir à caractériser le comportement thermique d'un matériau ($\\lambda$, $\\rho$, $c_p$) sont elles-même thermosensibles. Pour se simplifier la vie, on les supposera constantes et égales à leur valeur à 300 K.\n",
    "\n",
    "*(source : Transferts thermiques - J. Taine, F. Enguehard, E. Iacona - Éditions Dunod)*"
   ]
  },
  {
   "cell_type": "code",
   "execution_count": 250,
   "metadata": {},
   "outputs": [],
   "source": [
    "class CorpsPhysique:\n",
    "    def __init__(self, name, lambd, rho, cp):\n",
    "        self.name = name  # Nom du corps physique\n",
    "        self.lambd = lambd  # Conductivité thermique en W/(m·K)\n",
    "        self.rho = rho  # Densité en kg/m³\n",
    "        self.cp = cp  # Capacité thermique en J/(kg·K)\n",
    "    \n",
    "    def alpha(self):\n",
    "        return self.lambd / (self.rho * self.cp)\n",
    "    \n",
    "# ERRATUM : convention du rapport c'est plutôt a pour la diffusivité\n",
    "# Mieux vaut donc corriger ça et utiliser alpha pour les alpha_n plus loin.\n",
    "\n",
    "air = CorpsPhysique(\"air\", 0.0263, 1.1614, 1007)  # Air à 300 K\n",
    "cuivre = CorpsPhysique(\"cuivre\", 399, 8954, 383)  # Cuivre à 300 K\n",
    "\n",
    "# Pour rajouter de nouveaux corps physiques, c'est ici.\n"
   ]
  },
  {
   "cell_type": "markdown",
   "metadata": {},
   "source": [
    "Le calcul exact d'un coefficient de conducto-convection peut être délicat, et faire intervenir des nombres de Prandtl, Nusselt, la dilatation thermique et la gravité... Pour faire simple, nous imposerons un ordre de grandeur de h qu'on admettra comme cohérente pour de la convection naturelle laminaire sur une plaque plane (un mur)."
   ]
  },
  {
   "cell_type": "code",
   "execution_count": 251,
   "metadata": {},
   "outputs": [],
   "source": [
    "# Si on veut changer le coefficient de convection extérieure, c'est ici.\n",
    "h = 10 # en W/(m²·K)\n",
    "\n",
    "# Si on veut changer le corps étudié, c'est ici.\n",
    "corps = cuivre"
   ]
  },
  {
   "cell_type": "code",
   "execution_count": 252,
   "metadata": {},
   "outputs": [
    {
     "name": "stdout",
     "output_type": "stream",
     "text": [
      "Temps caractéristique de conduction selon x: 859494.24\n",
      "Temps caractéristique de conduction selon y: 214873.56\n",
      "\n",
      "Temps caractéristique de convection selon x: 85949.42\n",
      "Temps caractéristique de convection selon y: 21487.36\n",
      "\n",
      "Nombre de Biot selon x: 0.25\n",
      "Nombre de Biot selon y: 0.13\n",
      "\n",
      "Nombre de Fourier selon x: 0.01163\n",
      "Nombre de Fourier selon y: 0.01163\n"
     ]
    }
   ],
   "source": [
    "lambd, alpha = corps.lambd, corps.alpha()\n",
    "\n",
    "# Calcul du temps caractéristique de conduction selon x\n",
    "t_cond_x = L_x**2 / alpha\n",
    "print(f\"Temps caractéristique de conduction selon x: {t_cond_x:.2f}\")\n",
    "\n",
    "# Calcul du temps caractéristique de conduction selon y\n",
    "t_cond_y = L_y**2 / alpha\n",
    "print(f\"Temps caractéristique de conduction selon y: {t_cond_y:.2f}\")\n",
    "\n",
    "print()\n",
    "\n",
    "# Calcul du temps caractéristique de convection selon x\n",
    "t_conv_x = t_cond_x / h\n",
    "print(f\"Temps caractéristique de convection selon x: {t_conv_x:.2f}\")\n",
    "\n",
    "# Calcul du temps caractéristique de convection selon y\n",
    "t_conv_y = t_cond_y / h\n",
    "print(f\"Temps caractéristique de convection selon y: {t_conv_y:.2f}\")\n",
    "\n",
    "print()\n",
    "\n",
    "# Calcul du nombre de Biot selon x\n",
    "Bi_x = h * L_x / lambd\n",
    "print(f\"Nombre de Biot selon x: {Bi_x:.2f}\")\n",
    "\n",
    "# Calcul du nombre de Biot selon y\n",
    "Bi_y = h * L_y / lambd\n",
    "print(f\"Nombre de Biot selon y: {Bi_y:.2f}\")\n",
    "\n",
    "print()\n",
    "\n",
    "# Calcul du nombre de Fourier selon x\n",
    "Fo_x = alpha * dt / dx**2\n",
    "print(f\"Nombre de Fourier selon x: {Fo_x:.5f}\")\n",
    "\n",
    "# Calcul du nombre de Fourier selon y\n",
    "Fo_y = alpha * dt / dy**2\n",
    "print(f\"Nombre de Fourier selon y: {Fo_y:.5f}\")\n"
   ]
  },
  {
   "cell_type": "markdown",
   "metadata": {},
   "source": [
    "# Résolution numérique"
   ]
  },
  {
   "cell_type": "markdown",
   "metadata": {},
   "source": [
    "Nous allons implémenter la méthode ADI."
   ]
  },
  {
   "cell_type": "code",
   "execution_count": null,
   "metadata": {},
   "outputs": [],
   "source": []
  },
  {
   "cell_type": "markdown",
   "metadata": {},
   "source": [
    "# Résolution analytique"
   ]
  },
  {
   "cell_type": "markdown",
   "metadata": {},
   "source": [
    "L'énoncé indique que la solution analytique est donnée par la formule suivante :\n",
    "\n",
    "$\\displaystyle T(x,y) = T_a + \\frac{2h}{\\lambda} (T_1 - T_a) \\sum_{n=1}^\\infty \\frac{\\cos(\\alpha_n x) \\cosh(\\alpha_n (L_y - y))}{[(\\alpha_n^2 + \\beta^2) L_x + \\beta] \\cos(\\alpha_n L_x) \\cosh(\\alpha_n L_x)}$\n",
    "\n",
    "où $\\alpha_n$ désigne la nième solution positive de l'équation $\\alpha \\tan(L_x \\alpha) = \\beta = \\displaystyle \\frac{h}{\\lambda}$.\n",
    "\n",
    "Commençons donc par rédiger une fonction qui, à $n$ donné, permet d'obtenir $\\alpha_n$. C'est une équation non-linéaire, on est contraint d'utiliser un algorithme de résolution numérique."
   ]
  },
  {
   "cell_type": "code",
   "execution_count": 253,
   "metadata": {},
   "outputs": [],
   "source": [
    "beta = h / lambd\n",
    "\n",
    "def f(a):\n",
    "    # Fonction dont on cherche les zéros - Ici la variable est nommée a\n",
    "    # et non alpha, pour éviter toute confusion avec la diffusivité thermique \n",
    "    return a * np.tan(L_x * a) - beta"
   ]
  },
  {
   "cell_type": "markdown",
   "metadata": {},
   "source": [
    "C'est une équation non-linéaire, on va devoir utiliser un algorithme de résolution numérique.\n",
    "Le module ```scipy.optimize``` propose la fonction ```fsolve``` qui est une variante de l'algorithme de Newton-Raphson.\n",
    "De tels algorithmes ont besoin d'une **estimation initiale** de la solution avant de chercher.\n",
    "On peut montrer, avec les propriétés de la fonction $\\tan$, que : \n",
    "- la première racine de l'équation $f(a) = 0$ sera située avant $\\frac{\\pi}{2L_x}$, et que donc on peut commencer par placer le curseur à $\\frac{\\pi}{4L_x}$.\n",
    "- la $n$-ième racine sera proche de $\\frac{n \\pi}{L_x}$, et que donc ceci en constitue une bonne estimation."
   ]
  },
  {
   "cell_type": "code",
   "execution_count": 254,
   "metadata": {},
   "outputs": [],
   "source": [
    "def n_premieres_solutions(n):\n",
    "    # Liste pour stocker les solutions\n",
    "    solutions = []\n",
    "\n",
    "    # Estimation initiale de la solution\n",
    "    a0 = np.pi / (4 * L_x)\n",
    "    nb_solutions = 0\n",
    "\n",
    "    while nb_solutions < n:\n",
    "        solution = fsolve(f, a0)[0]\n",
    "\n",
    "        # Si la solution est déjà dans la liste, l'ignorer\n",
    "        if solution in solutions:\n",
    "            print(\"Solution déjà trouvée !\")\n",
    "            a0 += np.pi / L_x\n",
    "            continue\n",
    "\n",
    "        # Ajout de la solution à la liste\n",
    "        solutions.append(solution)\n",
    "\n",
    "        nb_solutions += 1\n",
    "        a0 = nb_solutions * np.pi / L_x\n",
    "\n",
    "    return solutions\n"
   ]
  },
  {
   "cell_type": "markdown",
   "metadata": {},
   "source": [
    "On a de quoi obtenir les $n$ premières valeurs de $\\alpha_n$. \n",
    "\n",
    "Rappelons qu'on cherche à calculer la série :\n",
    "\n",
    "$\\displaystyle T(x,y) = T_a + \\frac{2h}{\\lambda} (T_1 - T_a) \\sum_{n=1}^\\infty \\frac{\\cos(\\alpha_n x) \\cosh(\\alpha_n (L_y - y))}{[(\\alpha_n^2 + \\beta^2) L_x + \\beta] \\cos(\\alpha_n L_x) \\cosh(\\alpha_n L_x)}$\n",
    "\n",
    "Cette série est donnée comme convergente, ainsi on sait que son terme général tend vers 0 et que donc, pour tout $\\varepsilon > 0$, il existe une valeur $N_\\varepsilon$ telle que le terme général devient dominé par $\\varepsilon$ à partir du terme $N_\\varepsilon$. On fait l'hypothèse que le terme général n'oscille pas trop et que donc, si l'on trouve une première occurence bornée par une tolérance donnée ```epsilon```, alors on peut s'arrêter là. Dans l'idéal il faudrait faire une domination plus précise mais on s'en abstiendra, préférant une approche plus numérique."
   ]
  },
  {
   "cell_type": "code",
   "execution_count": 255,
   "metadata": {},
   "outputs": [],
   "source": [
    "# Si on veut changer la valeur à partir de laquelle on s'arrête de calculer des termes de la série, c'est ici.\n",
    "epsilon = 1e-4"
   ]
  },
  {
   "cell_type": "code",
   "execution_count": 261,
   "metadata": {},
   "outputs": [
    {
     "name": "stdout",
     "output_type": "stream",
     "text": [
      "0.00012569835217846048\n",
      "-0.013051437626813822\n",
      "-0.02572152868071953\n",
      "-0.038850343394869924\n",
      "-0.051692521128870794\n",
      "-0.06425730181626932\n",
      "-0.0769959765348176\n",
      "-0.08963979744180506\n",
      "-0.10217053423087918\n",
      "-0.11492199533364555\n",
      "-0.1269716907286238\n",
      "-0.1392349889089246\n",
      "-0.15152361538991954\n",
      "-0.16318384317577284\n",
      "-0.17498011040549954\n",
      "-0.18680461915346314\n",
      "-0.1981558869191531\n",
      "-0.2090734953008564\n",
      "-0.22009114641508631\n",
      "-0.23087674564050076\n",
      "-0.24166843147361305\n",
      "-0.2519087608304176\n",
      "-0.2619031200065365\n",
      "-0.27163967772924025\n",
      "-0.2808576066972819\n",
      "-0.29009535538432374\n",
      "-0.2990335381400655\n",
      "-0.30766454128507803\n",
      "-0.3159808098215535\n",
      "-0.32397490288985864\n",
      "-0.331871435968651\n",
      "-0.3391593581274037\n",
      "-0.34611087309554023\n",
      "-0.35271817989485044\n",
      "-0.3589739689987823\n",
      "-0.3648714053994695\n",
      "-0.37040411509315163\n",
      "-0.3755661743737164\n",
      "-0.38010357943755935\n",
      "-0.38454282242946647\n",
      "-0.38859086011819954\n",
      "-0.39224423806325603\n",
      "-0.3954998072811122\n",
      "-0.39835473775161745\n",
      "-0.4008065299200325\n",
      "-0.4028530243865589\n",
      "-0.40449240993939384\n",
      "-0.4057232300622218\n",
      "-0.4065443880205635\n",
      "-0.40695515060724574\n",
      "-0.40695515060724574\n",
      "-0.4065443880205635\n",
      "-0.4057232300622218\n",
      "-0.40449240993939384\n",
      "-0.4028530243865589\n",
      "-0.4008065299200325\n",
      "-0.39835473775161745\n",
      "-0.3954998072811122\n",
      "-0.39224423806325603\n",
      "-0.38859086011819954\n",
      "-0.38454282242946647\n",
      "-0.38010357943755935\n",
      "-0.3755661743737164\n",
      "-0.37040411509315163\n",
      "-0.3648714053994695\n",
      "-0.3589739689987823\n",
      "-0.35271817989485044\n",
      "-0.34611087309554023\n",
      "-0.3391593581274037\n",
      "-0.331871435968651\n",
      "-0.32397490288985864\n",
      "-0.3159808098215535\n",
      "-0.30766454128507803\n",
      "-0.2990335381400655\n",
      "-0.29009535538432374\n",
      "-0.2808576066972819\n",
      "-0.27163967772924025\n",
      "-0.2619031200065365\n",
      "-0.2519087608304176\n",
      "-0.24166843147361305\n",
      "-0.23087674564050076\n",
      "-0.22009114641508631\n",
      "-0.2090734953008564\n",
      "-0.1981558869191531\n",
      "-0.18680461915346314\n",
      "-0.17498011040549954\n",
      "-0.16318384317577284\n",
      "-0.15152361538991954\n",
      "-0.1392349889089246\n",
      "-0.1269716907286238\n",
      "-0.11492199533364555\n",
      "-0.10217053423087918\n",
      "-0.08963979744180506\n",
      "-0.0769959765348176\n",
      "-0.06425730181626932\n",
      "-0.051692521128870794\n",
      "-0.038850343394869924\n",
      "-0.02572152868071953\n",
      "-0.013051437626813822\n",
      "0.00012569835217846048\n"
     ]
    }
   ],
   "source": [
    "def serie(x, y, _L_x = L_x, _L_y = L_y, _beta = beta):\n",
    "    somme = 0\n",
    "    k = 1\n",
    "    while True:\n",
    "        a_k = n_premieres_solutions(k)[-1]  # on récupère la k-ième solution\n",
    "        terme_k = np.cos(a_k * y) * np.cosh(a_k * (_L_y - x)) / (((a_k**2 + _beta**2) * _L_x + _beta) * np.cos(a_k * _L_x) * np.cosh(a_k * _L_y))\n",
    "        if abs(terme_k) < epsilon:\n",
    "            break\n",
    "        somme += terme_k\n",
    "        k += 1\n",
    "    return somme\n",
    "\n",
    "def T_analytique(x, y, _h = h, _lambd = lambd, _T_1 = T_1, _T_a = T_a):\n",
    "    return _T_a + 2 * _h / _lambd * (_T_1 - _T_a) * serie(x, y)\n",
    "\n",
    "for x in np.linspace(0, L_x, N_x):\n",
    "    print(T_analytique(x, 0) - T_1)\n",
    "# Normalement, ceci ne doit pas trop différer de 0, c'est notre condition limite...\n",
    "# Donc maxi chelou.\n",
    "\n"
   ]
  },
  {
   "cell_type": "markdown",
   "metadata": {},
   "source": [
    "Ainsi, ```T_analytique(x,y)``` renvoie bien le $T(x,y)$ voulu, du moins avec une certaine précision."
   ]
  },
  {
   "cell_type": "code",
   "execution_count": 257,
   "metadata": {},
   "outputs": [
    {
     "data": {
      "image/png": "[encoded data removed]",
      "text/plain": [
       "<Figure size 432x288 with 2 Axes>"
      ]
     },
     "metadata": {
      "needs_background": "light"
     },
     "output_type": "display_data"
    }
   ],
   "source": [
    "def plot_temperature():\n",
    "    x_values = np.linspace(0, L_x, N_x)\n",
    "    y_values = np.linspace(0, L_y, N_y)\n",
    "    X, Y = np.meshgrid(x_values, y_values)\n",
    "    Z = np.vectorize(T_analytique)(X, Y)\n",
    "\n",
    "    plt.figure()\n",
    "    plt.imshow(Z, cmap='turbo', origin='lower', extent=[0, L_x, 0, L_y])\n",
    "    plt.colorbar(label='T_analytique')\n",
    "    plt.title('Profil de température analytique')\n",
    "    plt.xlabel('x')\n",
    "    plt.ylabel('y')\n",
    "    plt.show()\n",
    "\n",
    "plot_temperature()"
   ]
  }
 ],
 "metadata": {
  "kernelspec": {
   "display_name": "Python 3",
   "language": "python",
   "name": "python3"
  },
  "language_info": {
   "codemirror_mode": {
    "name": "ipython",
    "version": 3
   },
   "file_extension": ".py",
   "mimetype": "text/x-python",
   "name": "python",
   "nbconvert_exporter": "python",
   "pygments_lexer": "ipython3",
   "version": "3.8.3"
  }
 },
 "nbformat": 4,
 "nbformat_minor": 2
}
