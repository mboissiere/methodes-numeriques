{
 "cells": [
  {
   "cell_type": "markdown",
   "metadata": {},
   "source": [
    "# Importation des modules"
   ]
  },
  {
   "cell_type": "code",
   "execution_count": 219,
   "metadata": {},
   "outputs": [],
   "source": [
    "import numpy as np\n",
    "from scipy.optimize import fsolve\n",
    "import matplotlib.pyplot as plt"
   ]
  },
  {
   "cell_type": "markdown",
   "metadata": {},
   "source": [
    "# Définition des paramètres"
   ]
  },
  {
   "cell_type": "markdown",
   "metadata": {},
   "source": [
    "### Paramètres géométriques"
   ]
  },
  {
   "cell_type": "code",
   "execution_count": 220,
   "metadata": {},
   "outputs": [],
   "source": [
    "L_x, L_y = 10, 5 # Longueur et largeur de notre domaine d'étude\n",
    "N_x, N_y = 100, 50 # Nombre de mailles selon x et selon y"
   ]
  },
  {
   "cell_type": "markdown",
   "metadata": {},
   "source": [
    "Attention à ne pas confondre **nombre de mailles** et **nombre de points**.\n",
    "\n",
    "Typiquement, on a choisi de représenter l'intervalle continu $[0, L_x]$ par l'intervalle discret de points $\\llbracket 0, N_x \\rrbracket$. Ainsi, il y a bien $N_x$ **mailles**, de la forme $[x_i, x_{i+1}]$, mais **Nx + 1 points**.\n",
    "\n",
    "De même, selon y, il y a $N_y$ **mailles** et donc $N_y+1$ **points**."
   ]
  },
  {
   "cell_type": "code",
   "execution_count": 221,
   "metadata": {},
   "outputs": [],
   "source": [
    "dx = L_x/N_x # Taille d'une maille selon x\n",
    "dy = L_y/N_y # Taille d'une maille selon y"
   ]
  },
  {
   "cell_type": "code",
   "execution_count": 222,
   "metadata": {},
   "outputs": [],
   "source": [
    "dt = 1 # Choix du pas de temps de notre simulation\n",
    "N_t = 1000 # Temps maximal de notre simulation"
   ]
  },
  {
   "cell_type": "markdown",
   "metadata": {},
   "source": [
    "### Paramètres physiques\n",
    "\n",
    "Posons d'abord les conditions limites de notre problème."
   ]
  },
  {
   "cell_type": "code",
   "execution_count": 223,
   "metadata": {},
   "outputs": [],
   "source": [
    "T_0 = 300  # Température initiale du corps étudié, en Kelvin (environ 27°C)\n",
    "# Il est conseillé de garder 300 K : la densité et la capacité thermique d'un corps \n",
    "# sont thermosensibles, et plus loin on les prendra à 300 K.\n",
    "\n",
    "T_1 = 323.15  # Température imposée au bord y=0, en Kelvin (50°C)\n",
    "T_a = 273.15  # Température ambiante du fluide en x=Lx, en Kelvin (0°C)"
   ]
  },
  {
   "cell_type": "markdown",
   "metadata": {},
   "source": [
    "Profitons-en pour donner quelques valeurs courantes pour des corps physiques usuels. \n",
    "\n",
    "En vérité, toutes les grandeurs qui peuvent servir à caractériser le comportement thermique d'un matériau ($\\lambda$, $\\rho$, $c_p$) sont elles-même thermosensibles. Pour se simplifier la vie, on les supposera constantes et égales à leur valeur à 300 K.\n",
    "\n",
    "*(source : Transferts thermiques - J. Taine, F. Enguehard, E. Iacona - Éditions Dunod)*"
   ]
  },
  {
   "cell_type": "code",
   "execution_count": 224,
   "metadata": {},
   "outputs": [],
   "source": [
    "class CorpsPhysique:\n",
    "    def __init__(self, name, lambd, rho, cp):\n",
    "        self.name = name  # Nom du corps physique\n",
    "        self.lambd = lambd  # Conductivité thermique en W/(m·K)\n",
    "        self.rho = rho  # Densité en kg/m³\n",
    "        self.cp = cp  # Capacité thermique en J/(kg·K)\n",
    "    \n",
    "    def alpha(self):\n",
    "        return self.lambd / (self.rho * self.cp)\n",
    "\n",
    "air = CorpsPhysique(\"air\", 0.0263, 1.1614, 1007)  # Air à 300 K\n",
    "cuivre = CorpsPhysique(\"cuivre\", 399, 8954, 383)  # Cuivre à 300 K\n",
    "\n",
    "# Pour rajouter de nouveaux corps physiques, c'est ici.\n"
   ]
  },
  {
   "cell_type": "markdown",
   "metadata": {},
   "source": [
    "Le calcul exact d'un coefficient de conducto-convection peut être délicat, et faire intervenir des nombres de Prandtl, Nusselt, la dilatation thermique et la gravité... Pour faire simple, nous imposerons un ordre de grandeur de h qu'on admettra comme cohérente pour de la convection naturelle laminaire sur une plaque plane (un mur)."
   ]
  },
  {
   "cell_type": "code",
   "execution_count": 225,
   "metadata": {},
   "outputs": [],
   "source": [
    "# Si on veut changer le coefficient de convection extérieure, c'est ici.\n",
    "h = 10 # en W/(m²·K)\n",
    "\n",
    "# Si on veut changer le corps étudié, c'est ici.\n",
    "corps = cuivre"
   ]
  },
  {
   "cell_type": "code",
   "execution_count": 226,
   "metadata": {},
   "outputs": [
    {
     "name": "stdout",
     "output_type": "stream",
     "text": [
      "Temps caractéristique de conduction selon x: 859494.24\n",
      "Temps caractéristique de conduction selon y: 214873.56\n",
      "\n",
      "Temps caractéristique de convection selon x: 85949.42\n",
      "Temps caractéristique de convection selon y: 21487.36\n",
      "\n",
      "Nombre de Biot selon x: 0.25\n",
      "Nombre de Biot selon y: 0.13\n",
      "\n",
      "Nombre de Fourier selon x: 0.01163\n",
      "Nombre de Fourier selon y: 0.01163\n"
     ]
    }
   ],
   "source": [
    "lambd, alpha = corps.lambd, corps.alpha()\n",
    "\n",
    "# Calcul du temps caractéristique de conduction selon x\n",
    "t_cond_x = L_x**2 / alpha\n",
    "print(f\"Temps caractéristique de conduction selon x: {t_cond_x:.2f}\")\n",
    "\n",
    "# Calcul du temps caractéristique de conduction selon y\n",
    "t_cond_y = L_y**2 / alpha\n",
    "print(f\"Temps caractéristique de conduction selon y: {t_cond_y:.2f}\")\n",
    "\n",
    "print()\n",
    "\n",
    "# Calcul du temps caractéristique de convection selon x\n",
    "t_conv_x = t_cond_x / h\n",
    "print(f\"Temps caractéristique de convection selon x: {t_conv_x:.2f}\")\n",
    "\n",
    "# Calcul du temps caractéristique de convection selon y\n",
    "t_conv_y = t_cond_y / h\n",
    "print(f\"Temps caractéristique de convection selon y: {t_conv_y:.2f}\")\n",
    "\n",
    "print()\n",
    "\n",
    "# Calcul du nombre de Biot selon x\n",
    "Bi_x = h * L_x / lambd\n",
    "print(f\"Nombre de Biot selon x: {Bi_x:.2f}\")\n",
    "\n",
    "# Calcul du nombre de Biot selon y\n",
    "Bi_y = h * L_y / lambd\n",
    "print(f\"Nombre de Biot selon y: {Bi_y:.2f}\")\n",
    "\n",
    "print()\n",
    "\n",
    "# Calcul du nombre de Fourier selon x\n",
    "Fo_x = alpha * dt / dx**2\n",
    "print(f\"Nombre de Fourier selon x: {Fo_x:.5f}\")\n",
    "\n",
    "# Calcul du nombre de Fourier selon y\n",
    "Fo_y = alpha * dt / dy**2\n",
    "print(f\"Nombre de Fourier selon y: {Fo_y:.5f}\")\n"
   ]
  },
  {
   "cell_type": "markdown",
   "metadata": {},
   "source": [
    "# Résolution numérique"
   ]
  },
  {
   "cell_type": "markdown",
   "metadata": {},
   "source": [
    "Nous allons implémenter la méthode ADI."
   ]
  },
  {
   "cell_type": "code",
   "execution_count": null,
   "metadata": {},
   "outputs": [],
   "source": []
  },
  {
   "cell_type": "markdown",
   "metadata": {},
   "source": [
    "# Résolution analytique"
   ]
  },
  {
   "cell_type": "markdown",
   "metadata": {},
   "source": [
    "L'énoncé indique que la solution analytique est donnée par la formule suivante :\n",
    "\n",
    "$\\displaystyle T(x,y) = T_a + \\frac{2h}{\\lambda} (T_1 - T_a) \\sum_{n=1}^\\infty \\frac{\\cos(\\alpha_n x) \\cosh(\\alpha_n (L_y - y))}{[(\\alpha_n^2 + \\beta^2) L_x + \\beta] \\cos(\\alpha_n L_x) \\cosh(\\alpha_n L_x)}$\n",
    "\n",
    "où $\\alpha_n$ désigne la nième solution positive de l'équation $\\alpha \\tan(L_x \\alpha) = \\beta = \\displaystyle \\frac{h}{\\lambda}$.\n",
    "\n",
    "Commençons donc par rédiger une fonction qui, à $n$ donné, permet d'obtenir $\\alpha_n$. C'est une équation non-linéaire, on est contraint d'utiliser un algorithme de résolution numérique."
   ]
  },
  {
   "cell_type": "code",
   "execution_count": 227,
   "metadata": {},
   "outputs": [],
   "source": [
    "beta = h / lambd\n",
    "\n",
    "def f(a):\n",
    "    # Fonction dont on cherche les zéros - Ici la variable est nommée a\n",
    "    # et non alpha, pour éviter toute confusion avec la diffusivité thermique \n",
    "    return a * np.tan(L_x * a) - beta"
   ]
  },
  {
   "cell_type": "markdown",
   "metadata": {},
   "source": [
    "C'est une équation non-linéaire, on va devoir utiliser un algorithme de résolution numérique.\n",
    "Le module ```scipy.optimize``` propose la fonction ```fsolve``` qui est une variante de l'algorithme de Newton-Raphson.\n",
    "De tels algorithmes ont besoin d'une **estimation initiale** de la solution avant de chercher.\n",
    "On peut montrer, avec les propriétés de la fonction $\\tan$, que : \n",
    "- la première racine de l'équation $f(a) = 0$ sera située avant $\\frac{\\pi}{2L_x}$, et que donc on peut commencer par placer le curseur à $\\frac{\\pi}{4L_x}$.\n",
    "- la $n$-ième racine sera proche de $\\frac{n \\pi}{L_x}$, et que donc ceci en constitue une bonne estimation."
   ]
  },
  {
   "cell_type": "code",
   "execution_count": 228,
   "metadata": {},
   "outputs": [],
   "source": [
    "def n_premieres_solutions(n):\n",
    "    # Liste pour stocker les solutions\n",
    "    solutions = []\n",
    "\n",
    "    # Estimation initiale de la solution\n",
    "    a0 = np.pi / (4 * L_x)\n",
    "    nb_solutions = 0\n",
    "\n",
    "    while nb_solutions < n:\n",
    "        solution = fsolve(f, a0)[0]\n",
    "\n",
    "        # Si la solution est déjà dans la liste, l'ignorer\n",
    "        if solution in solutions:\n",
    "            print(\"Solution déjà trouvée !\")\n",
    "            a0 += np.pi / L_x\n",
    "            continue\n",
    "\n",
    "        # Ajout de la solution à la liste\n",
    "        solutions.append(solution)\n",
    "\n",
    "        nb_solutions += 1\n",
    "        a0 = nb_solutions * np.pi / L_x\n",
    "\n",
    "    return solutions\n"
   ]
  },
  {
   "cell_type": "markdown",
   "metadata": {},
   "source": [
    "On a de quoi obtenir les $n$ premières valeurs de $\\alpha_n$. \n",
    "\n",
    "Rappelons qu'on cherche à calculer la série :\n",
    "\n",
    "$\\displaystyle T(x,y) = T_a + \\frac{2h}{\\lambda} (T_1 - T_a) \\sum_{n=1}^\\infty \\frac{\\cos(\\alpha_n x) \\cosh(\\alpha_n (L_y - y))}{[(\\alpha_n^2 + \\beta^2) L_x + \\beta] \\cos(\\alpha_n L_x) \\cosh(\\alpha_n L_x)}$\n",
    "\n",
    "Cette série est donnée comme convergente, ainsi on sait que son terme général tend vers 0 et que donc, pour tout $\\varepsilon > 0$, il existe une valeur $N_\\varepsilon$ telle que le terme général devient dominé par $\\varepsilon$ à partir du terme $N_\\varepsilon$. On fait l'hypothèse que le terme général n'oscille pas trop et que donc, si l'on trouve une première occurence bornée par une tolérance donnée ```epsilon```, alors on peut s'arrêter là. Dans l'idéal il faudrait faire une domination plus précise mais on s'en abstiendra, préférant une approche plus numérique."
   ]
  },
  {
   "cell_type": "code",
   "execution_count": 229,
   "metadata": {},
   "outputs": [],
   "source": [
    "# Si on veut changer la valeur à partir de laquelle on s'arrête de calculer des termes de la série, c'est ici.\n",
    "epsilon = 1e-4"
   ]
  },
  {
   "cell_type": "code",
   "execution_count": 230,
   "metadata": {},
   "outputs": [],
   "source": [
    "def serie(x, y, _L_x = L_x, _L_y = L_y, _beta = beta):\n",
    "    somme = 0\n",
    "    k = 1\n",
    "    while True:\n",
    "        a_k = n_premieres_solutions(k)[-1]  # on récupère la k-ième solution\n",
    "        terme_k = np.cos(a_k * y) * np.cosh(a_k * (_L_y - x)) / (((a_k**2 + _beta**2) * _L_x + _beta) * np.cos(a_k * _L_x) * np.cosh(a_k * _L_y))\n",
    "        if abs(terme_k) < epsilon:\n",
    "            break\n",
    "        somme += terme_k\n",
    "        k += 1\n",
    "    return somme\n",
    "\n",
    "def T_analytique(x, y, _h = h, _lambd = lambd, _T_1 = T_1, _T_a = T_a):\n",
    "    return _T_a + 2 * _h / _lambd * (_T_1 - _T_a) * serie(x, y)"
   ]
  },
  {
   "cell_type": "markdown",
   "metadata": {},
   "source": [
    "Ainsi, ```T_analytique(x,y)``` renvoie bien le $T(x,y)$ voulu, du moins avec une certaine précision."
   ]
  },
  {
   "cell_type": "code",
   "execution_count": 231,
   "metadata": {},
   "outputs": [
    {
     "ename": "KeyboardInterrupt",
     "evalue": "",
     "output_type": "error",
     "traceback": [
      "\u001b[1;31m---------------------------------------------------------------------------\u001b[0m",
      "\u001b[1;31mKeyboardInterrupt\u001b[0m                         Traceback (most recent call last)",
      "\u001b[1;32m<ipython-input-231-766e4feef785>\u001b[0m in \u001b[0;36m<module>\u001b[1;34m\u001b[0m\n\u001b[0;32m     13\u001b[0m     \u001b[0mplt\u001b[0m\u001b[1;33m.\u001b[0m\u001b[0mshow\u001b[0m\u001b[1;33m(\u001b[0m\u001b[1;33m)\u001b[0m\u001b[1;33m\u001b[0m\u001b[1;33m\u001b[0m\u001b[0m\n\u001b[0;32m     14\u001b[0m \u001b[1;33m\u001b[0m\u001b[0m\n\u001b[1;32m---> 15\u001b[1;33m \u001b[0mplot_temperature\u001b[0m\u001b[1;33m(\u001b[0m\u001b[1;33m)\u001b[0m\u001b[1;33m\u001b[0m\u001b[1;33m\u001b[0m\u001b[0m\n\u001b[0m",
      "\u001b[1;32m<ipython-input-231-766e4feef785>\u001b[0m in \u001b[0;36mplot_temperature\u001b[1;34m()\u001b[0m\n\u001b[0;32m      3\u001b[0m     \u001b[0my_values\u001b[0m \u001b[1;33m=\u001b[0m \u001b[0mnp\u001b[0m\u001b[1;33m.\u001b[0m\u001b[0mlinspace\u001b[0m\u001b[1;33m(\u001b[0m\u001b[1;36m0\u001b[0m\u001b[1;33m,\u001b[0m \u001b[0mL_y\u001b[0m\u001b[1;33m,\u001b[0m \u001b[0mN_y\u001b[0m\u001b[1;33m)\u001b[0m\u001b[1;33m\u001b[0m\u001b[1;33m\u001b[0m\u001b[0m\n\u001b[0;32m      4\u001b[0m     \u001b[0mX\u001b[0m\u001b[1;33m,\u001b[0m \u001b[0mY\u001b[0m \u001b[1;33m=\u001b[0m \u001b[0mnp\u001b[0m\u001b[1;33m.\u001b[0m\u001b[0mmeshgrid\u001b[0m\u001b[1;33m(\u001b[0m\u001b[0mx_values\u001b[0m\u001b[1;33m,\u001b[0m \u001b[0my_values\u001b[0m\u001b[1;33m)\u001b[0m\u001b[1;33m\u001b[0m\u001b[1;33m\u001b[0m\u001b[0m\n\u001b[1;32m----> 5\u001b[1;33m     \u001b[0mZ\u001b[0m \u001b[1;33m=\u001b[0m \u001b[0mnp\u001b[0m\u001b[1;33m.\u001b[0m\u001b[0mvectorize\u001b[0m\u001b[1;33m(\u001b[0m\u001b[0mT_analytique\u001b[0m\u001b[1;33m)\u001b[0m\u001b[1;33m(\u001b[0m\u001b[0mX\u001b[0m\u001b[1;33m,\u001b[0m \u001b[0mY\u001b[0m\u001b[1;33m)\u001b[0m\u001b[1;33m\u001b[0m\u001b[1;33m\u001b[0m\u001b[0m\n\u001b[0m\u001b[0;32m      6\u001b[0m \u001b[1;33m\u001b[0m\u001b[0m\n\u001b[0;32m      7\u001b[0m     \u001b[0mplt\u001b[0m\u001b[1;33m.\u001b[0m\u001b[0mfigure\u001b[0m\u001b[1;33m(\u001b[0m\u001b[1;33m)\u001b[0m\u001b[1;33m\u001b[0m\u001b[1;33m\u001b[0m\u001b[0m\n",
      "\u001b[1;32mc:\\Users\\matte\\anaconda3\\lib\\site-packages\\numpy\\lib\\function_base.py\u001b[0m in \u001b[0;36m__call__\u001b[1;34m(self, *args, **kwargs)\u001b[0m\n\u001b[0;32m   2327\u001b[0m             \u001b[0mvargs\u001b[0m\u001b[1;33m.\u001b[0m\u001b[0mextend\u001b[0m\u001b[1;33m(\u001b[0m\u001b[1;33m[\u001b[0m\u001b[0mkwargs\u001b[0m\u001b[1;33m[\u001b[0m\u001b[0m_n\u001b[0m\u001b[1;33m]\u001b[0m \u001b[1;32mfor\u001b[0m \u001b[0m_n\u001b[0m \u001b[1;32min\u001b[0m \u001b[0mnames\u001b[0m\u001b[1;33m]\u001b[0m\u001b[1;33m)\u001b[0m\u001b[1;33m\u001b[0m\u001b[1;33m\u001b[0m\u001b[0m\n\u001b[0;32m   2328\u001b[0m \u001b[1;33m\u001b[0m\u001b[0m\n\u001b[1;32m-> 2329\u001b[1;33m         \u001b[1;32mreturn\u001b[0m \u001b[0mself\u001b[0m\u001b[1;33m.\u001b[0m\u001b[0m_vectorize_call\u001b[0m\u001b[1;33m(\u001b[0m\u001b[0mfunc\u001b[0m\u001b[1;33m=\u001b[0m\u001b[0mfunc\u001b[0m\u001b[1;33m,\u001b[0m \u001b[0margs\u001b[0m\u001b[1;33m=\u001b[0m\u001b[0mvargs\u001b[0m\u001b[1;33m)\u001b[0m\u001b[1;33m\u001b[0m\u001b[1;33m\u001b[0m\u001b[0m\n\u001b[0m\u001b[0;32m   2330\u001b[0m \u001b[1;33m\u001b[0m\u001b[0m\n\u001b[0;32m   2331\u001b[0m     \u001b[1;32mdef\u001b[0m \u001b[0m_get_ufunc_and_otypes\u001b[0m\u001b[1;33m(\u001b[0m\u001b[0mself\u001b[0m\u001b[1;33m,\u001b[0m \u001b[0mfunc\u001b[0m\u001b[1;33m,\u001b[0m \u001b[0margs\u001b[0m\u001b[1;33m)\u001b[0m\u001b[1;33m:\u001b[0m\u001b[1;33m\u001b[0m\u001b[1;33m\u001b[0m\u001b[0m\n",
      "\u001b[1;32mc:\\Users\\matte\\anaconda3\\lib\\site-packages\\numpy\\lib\\function_base.py\u001b[0m in \u001b[0;36m_vectorize_call\u001b[1;34m(self, func, args)\u001b[0m\n\u001b[0;32m   2410\u001b[0m             \u001b[0minputs\u001b[0m \u001b[1;33m=\u001b[0m \u001b[1;33m[\u001b[0m\u001b[0masanyarray\u001b[0m\u001b[1;33m(\u001b[0m\u001b[0ma\u001b[0m\u001b[1;33m,\u001b[0m \u001b[0mdtype\u001b[0m\u001b[1;33m=\u001b[0m\u001b[0mobject\u001b[0m\u001b[1;33m)\u001b[0m \u001b[1;32mfor\u001b[0m \u001b[0ma\u001b[0m \u001b[1;32min\u001b[0m \u001b[0margs\u001b[0m\u001b[1;33m]\u001b[0m\u001b[1;33m\u001b[0m\u001b[1;33m\u001b[0m\u001b[0m\n\u001b[0;32m   2411\u001b[0m \u001b[1;33m\u001b[0m\u001b[0m\n\u001b[1;32m-> 2412\u001b[1;33m             \u001b[0moutputs\u001b[0m \u001b[1;33m=\u001b[0m \u001b[0mufunc\u001b[0m\u001b[1;33m(\u001b[0m\u001b[1;33m*\u001b[0m\u001b[0minputs\u001b[0m\u001b[1;33m)\u001b[0m\u001b[1;33m\u001b[0m\u001b[1;33m\u001b[0m\u001b[0m\n\u001b[0m\u001b[0;32m   2413\u001b[0m \u001b[1;33m\u001b[0m\u001b[0m\n\u001b[0;32m   2414\u001b[0m             \u001b[1;32mif\u001b[0m \u001b[0mufunc\u001b[0m\u001b[1;33m.\u001b[0m\u001b[0mnout\u001b[0m \u001b[1;33m==\u001b[0m \u001b[1;36m1\u001b[0m\u001b[1;33m:\u001b[0m\u001b[1;33m\u001b[0m\u001b[1;33m\u001b[0m\u001b[0m\n",
      "\u001b[1;32m<ipython-input-230-f04e6c0a236b>\u001b[0m in \u001b[0;36mT_analytique\u001b[1;34m(x, y, _h, _lambd, _T_1, _T_a)\u001b[0m\n\u001b[0;32m     12\u001b[0m \u001b[1;33m\u001b[0m\u001b[0m\n\u001b[0;32m     13\u001b[0m \u001b[1;32mdef\u001b[0m \u001b[0mT_analytique\u001b[0m\u001b[1;33m(\u001b[0m\u001b[0mx\u001b[0m\u001b[1;33m,\u001b[0m \u001b[0my\u001b[0m\u001b[1;33m,\u001b[0m \u001b[0m_h\u001b[0m \u001b[1;33m=\u001b[0m \u001b[0mh\u001b[0m\u001b[1;33m,\u001b[0m \u001b[0m_lambd\u001b[0m \u001b[1;33m=\u001b[0m \u001b[0mlambd\u001b[0m\u001b[1;33m,\u001b[0m \u001b[0m_T_1\u001b[0m \u001b[1;33m=\u001b[0m \u001b[0mT_1\u001b[0m\u001b[1;33m,\u001b[0m \u001b[0m_T_a\u001b[0m \u001b[1;33m=\u001b[0m \u001b[0mT_a\u001b[0m\u001b[1;33m)\u001b[0m\u001b[1;33m:\u001b[0m\u001b[1;33m\u001b[0m\u001b[1;33m\u001b[0m\u001b[0m\n\u001b[1;32m---> 14\u001b[1;33m     \u001b[1;32mreturn\u001b[0m \u001b[0m_T_a\u001b[0m \u001b[1;33m+\u001b[0m \u001b[1;36m2\u001b[0m \u001b[1;33m*\u001b[0m \u001b[0m_h\u001b[0m \u001b[1;33m/\u001b[0m \u001b[0m_lambd\u001b[0m \u001b[1;33m*\u001b[0m \u001b[1;33m(\u001b[0m\u001b[0m_T_1\u001b[0m \u001b[1;33m-\u001b[0m \u001b[0m_T_a\u001b[0m\u001b[1;33m)\u001b[0m \u001b[1;33m*\u001b[0m \u001b[0mserie\u001b[0m\u001b[1;33m(\u001b[0m\u001b[0mx\u001b[0m\u001b[1;33m,\u001b[0m \u001b[0my\u001b[0m\u001b[1;33m)\u001b[0m\u001b[1;33m\u001b[0m\u001b[1;33m\u001b[0m\u001b[0m\n\u001b[0m",
      "\u001b[1;32m<ipython-input-230-f04e6c0a236b>\u001b[0m in \u001b[0;36mserie\u001b[1;34m(x, y, _L_x, _L_y, _beta)\u001b[0m\n\u001b[0;32m      3\u001b[0m     \u001b[0mk\u001b[0m \u001b[1;33m=\u001b[0m \u001b[1;36m1\u001b[0m\u001b[1;33m\u001b[0m\u001b[1;33m\u001b[0m\u001b[0m\n\u001b[0;32m      4\u001b[0m     \u001b[1;32mwhile\u001b[0m \u001b[1;32mTrue\u001b[0m\u001b[1;33m:\u001b[0m\u001b[1;33m\u001b[0m\u001b[1;33m\u001b[0m\u001b[0m\n\u001b[1;32m----> 5\u001b[1;33m         \u001b[0ma_k\u001b[0m \u001b[1;33m=\u001b[0m \u001b[0mn_premieres_solutions\u001b[0m\u001b[1;33m(\u001b[0m\u001b[0mk\u001b[0m\u001b[1;33m)\u001b[0m\u001b[1;33m[\u001b[0m\u001b[1;33m-\u001b[0m\u001b[1;36m1\u001b[0m\u001b[1;33m]\u001b[0m  \u001b[1;31m# on récupère la k-ième solution\u001b[0m\u001b[1;33m\u001b[0m\u001b[1;33m\u001b[0m\u001b[0m\n\u001b[0m\u001b[0;32m      6\u001b[0m         \u001b[0mterme_k\u001b[0m \u001b[1;33m=\u001b[0m \u001b[0mnp\u001b[0m\u001b[1;33m.\u001b[0m\u001b[0mcos\u001b[0m\u001b[1;33m(\u001b[0m\u001b[0ma_k\u001b[0m \u001b[1;33m*\u001b[0m \u001b[0my\u001b[0m\u001b[1;33m)\u001b[0m \u001b[1;33m*\u001b[0m \u001b[0mnp\u001b[0m\u001b[1;33m.\u001b[0m\u001b[0mcosh\u001b[0m\u001b[1;33m(\u001b[0m\u001b[0ma_k\u001b[0m \u001b[1;33m*\u001b[0m \u001b[1;33m(\u001b[0m\u001b[0m_L_y\u001b[0m \u001b[1;33m-\u001b[0m \u001b[0mx\u001b[0m\u001b[1;33m)\u001b[0m\u001b[1;33m)\u001b[0m \u001b[1;33m/\u001b[0m \u001b[1;33m(\u001b[0m\u001b[1;33m(\u001b[0m\u001b[1;33m(\u001b[0m\u001b[0ma_k\u001b[0m\u001b[1;33m**\u001b[0m\u001b[1;36m2\u001b[0m \u001b[1;33m+\u001b[0m \u001b[0m_beta\u001b[0m\u001b[1;33m**\u001b[0m\u001b[1;36m2\u001b[0m\u001b[1;33m)\u001b[0m \u001b[1;33m*\u001b[0m \u001b[0m_L_x\u001b[0m \u001b[1;33m+\u001b[0m \u001b[0m_beta\u001b[0m\u001b[1;33m)\u001b[0m \u001b[1;33m*\u001b[0m \u001b[0mnp\u001b[0m\u001b[1;33m.\u001b[0m\u001b[0mcos\u001b[0m\u001b[1;33m(\u001b[0m\u001b[0ma_k\u001b[0m \u001b[1;33m*\u001b[0m \u001b[0m_L_x\u001b[0m\u001b[1;33m)\u001b[0m \u001b[1;33m*\u001b[0m \u001b[0mnp\u001b[0m\u001b[1;33m.\u001b[0m\u001b[0mcosh\u001b[0m\u001b[1;33m(\u001b[0m\u001b[0ma_k\u001b[0m \u001b[1;33m*\u001b[0m \u001b[0m_L_y\u001b[0m\u001b[1;33m)\u001b[0m\u001b[1;33m)\u001b[0m\u001b[1;33m\u001b[0m\u001b[1;33m\u001b[0m\u001b[0m\n\u001b[0;32m      7\u001b[0m         \u001b[1;32mif\u001b[0m \u001b[0mabs\u001b[0m\u001b[1;33m(\u001b[0m\u001b[0mterme_k\u001b[0m\u001b[1;33m)\u001b[0m \u001b[1;33m<\u001b[0m \u001b[0mepsilon\u001b[0m\u001b[1;33m:\u001b[0m\u001b[1;33m\u001b[0m\u001b[1;33m\u001b[0m\u001b[0m\n",
      "\u001b[1;32m<ipython-input-228-6ed9f522184f>\u001b[0m in \u001b[0;36mn_premieres_solutions\u001b[1;34m(n)\u001b[0m\n\u001b[0;32m      8\u001b[0m \u001b[1;33m\u001b[0m\u001b[0m\n\u001b[0;32m      9\u001b[0m     \u001b[1;32mwhile\u001b[0m \u001b[0mnb_solutions\u001b[0m \u001b[1;33m<\u001b[0m \u001b[0mn\u001b[0m\u001b[1;33m:\u001b[0m\u001b[1;33m\u001b[0m\u001b[1;33m\u001b[0m\u001b[0m\n\u001b[1;32m---> 10\u001b[1;33m         \u001b[0msolution\u001b[0m \u001b[1;33m=\u001b[0m \u001b[0mfsolve\u001b[0m\u001b[1;33m(\u001b[0m\u001b[0mf\u001b[0m\u001b[1;33m,\u001b[0m \u001b[0ma0\u001b[0m\u001b[1;33m)\u001b[0m\u001b[1;33m[\u001b[0m\u001b[1;36m0\u001b[0m\u001b[1;33m]\u001b[0m\u001b[1;33m\u001b[0m\u001b[1;33m\u001b[0m\u001b[0m\n\u001b[0m\u001b[0;32m     11\u001b[0m \u001b[1;33m\u001b[0m\u001b[0m\n\u001b[0;32m     12\u001b[0m         \u001b[1;31m# Si la solution est déjà dans la liste, l'ignorer\u001b[0m\u001b[1;33m\u001b[0m\u001b[1;33m\u001b[0m\u001b[1;33m\u001b[0m\u001b[0m\n",
      "\u001b[1;32mc:\\Users\\matte\\anaconda3\\lib\\site-packages\\scipy\\optimize\\_minpack_py.py\u001b[0m in \u001b[0;36mfsolve\u001b[1;34m(func, x0, args, fprime, full_output, col_deriv, xtol, maxfev, band, epsfcn, factor, diag)\u001b[0m\n\u001b[0;32m    161\u001b[0m                'diag': diag}\n\u001b[0;32m    162\u001b[0m \u001b[1;33m\u001b[0m\u001b[0m\n\u001b[1;32m--> 163\u001b[1;33m     \u001b[0mres\u001b[0m \u001b[1;33m=\u001b[0m \u001b[0m_root_hybr\u001b[0m\u001b[1;33m(\u001b[0m\u001b[0mfunc\u001b[0m\u001b[1;33m,\u001b[0m \u001b[0mx0\u001b[0m\u001b[1;33m,\u001b[0m \u001b[0margs\u001b[0m\u001b[1;33m,\u001b[0m \u001b[0mjac\u001b[0m\u001b[1;33m=\u001b[0m\u001b[0mfprime\u001b[0m\u001b[1;33m,\u001b[0m \u001b[1;33m**\u001b[0m\u001b[0moptions\u001b[0m\u001b[1;33m)\u001b[0m\u001b[1;33m\u001b[0m\u001b[1;33m\u001b[0m\u001b[0m\n\u001b[0m\u001b[0;32m    164\u001b[0m     \u001b[1;32mif\u001b[0m \u001b[0mfull_output\u001b[0m\u001b[1;33m:\u001b[0m\u001b[1;33m\u001b[0m\u001b[1;33m\u001b[0m\u001b[0m\n\u001b[0;32m    165\u001b[0m         \u001b[0mx\u001b[0m \u001b[1;33m=\u001b[0m \u001b[0mres\u001b[0m\u001b[1;33m[\u001b[0m\u001b[1;34m'x'\u001b[0m\u001b[1;33m]\u001b[0m\u001b[1;33m\u001b[0m\u001b[1;33m\u001b[0m\u001b[0m\n",
      "\u001b[1;32mc:\\Users\\matte\\anaconda3\\lib\\site-packages\\scipy\\optimize\\_minpack_py.py\u001b[0m in \u001b[0;36m_root_hybr\u001b[1;34m(func, x0, args, jac, col_deriv, xtol, maxfev, band, eps, factor, diag, **unknown_options)\u001b[0m\n\u001b[0;32m    223\u001b[0m     \u001b[0mepsfcn\u001b[0m \u001b[1;33m=\u001b[0m \u001b[0meps\u001b[0m\u001b[1;33m\u001b[0m\u001b[1;33m\u001b[0m\u001b[0m\n\u001b[0;32m    224\u001b[0m \u001b[1;33m\u001b[0m\u001b[0m\n\u001b[1;32m--> 225\u001b[1;33m     \u001b[0mx0\u001b[0m \u001b[1;33m=\u001b[0m \u001b[0masarray\u001b[0m\u001b[1;33m(\u001b[0m\u001b[0mx0\u001b[0m\u001b[1;33m)\u001b[0m\u001b[1;33m.\u001b[0m\u001b[0mflatten\u001b[0m\u001b[1;33m(\u001b[0m\u001b[1;33m)\u001b[0m\u001b[1;33m\u001b[0m\u001b[1;33m\u001b[0m\u001b[0m\n\u001b[0m\u001b[0;32m    226\u001b[0m     \u001b[0mn\u001b[0m \u001b[1;33m=\u001b[0m \u001b[0mlen\u001b[0m\u001b[1;33m(\u001b[0m\u001b[0mx0\u001b[0m\u001b[1;33m)\u001b[0m\u001b[1;33m\u001b[0m\u001b[1;33m\u001b[0m\u001b[0m\n\u001b[0;32m    227\u001b[0m     \u001b[1;32mif\u001b[0m \u001b[1;32mnot\u001b[0m \u001b[0misinstance\u001b[0m\u001b[1;33m(\u001b[0m\u001b[0margs\u001b[0m\u001b[1;33m,\u001b[0m \u001b[0mtuple\u001b[0m\u001b[1;33m)\u001b[0m\u001b[1;33m:\u001b[0m\u001b[1;33m\u001b[0m\u001b[1;33m\u001b[0m\u001b[0m\n",
      "\u001b[1;31mKeyboardInterrupt\u001b[0m: "
     ]
    }
   ],
   "source": [
    "def plot_temperature():\n",
    "    x_values = np.linspace(0, L_x, N_x)\n",
    "    y_values = np.linspace(0, L_y, N_y)\n",
    "    X, Y = np.meshgrid(x_values, y_values)\n",
    "    Z = np.vectorize(T_analytique)(X, Y)\n",
    "\n",
    "    plt.figure()\n",
    "    plt.imshow(Z, cmap='turbo', origin='lower', extent=[0, L_x, 0, L_y])\n",
    "    plt.colorbar(label='T_analytique')\n",
    "    plt.title('Profil de température analytique')\n",
    "    plt.xlabel('x')\n",
    "    plt.ylabel('y')\n",
    "    plt.show()\n",
    "\n",
    "plot_temperature()"
   ]
  }
 ],
 "metadata": {
  "kernelspec": {
   "display_name": "Python 3",
   "language": "python",
   "name": "python3"
  },
  "language_info": {
   "codemirror_mode": {
    "name": "ipython",
    "version": 3
   },
   "file_extension": ".py",
   "mimetype": "text/x-python",
   "name": "python",
   "nbconvert_exporter": "python",
   "pygments_lexer": "ipython3",
   "version": "3.8.3"
  }
 },
 "nbformat": 4,
 "nbformat_minor": 2
}
