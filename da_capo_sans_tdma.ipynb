{
 "cells": [
  {
   "cell_type": "markdown",
   "metadata": {},
   "source": [
    "# Importation des modules"
   ]
  },
  {
   "cell_type": "code",
   "execution_count": 280,
   "metadata": {},
   "outputs": [],
   "source": [
    "import numpy as np\n",
    "from scipy.optimize import fsolve\n",
    "from scipy.linalg import solve_banded\n",
    "import matplotlib.pyplot as plt\n",
    "import matplotlib.animation as animation"
   ]
  },
  {
   "cell_type": "markdown",
   "metadata": {},
   "source": [
    "# Définition des paramètres"
   ]
  },
  {
   "cell_type": "markdown",
   "metadata": {},
   "source": [
    "### Paramètres géométriques"
   ]
  },
  {
   "cell_type": "code",
   "execution_count": 281,
   "metadata": {},
   "outputs": [],
   "source": [
    "L_x, L_y = 10, 5 # Longueur et largeur de notre domaine d'étude\n",
    "N_x, N_y = 10, 5 # Nombre de mailles selon x et selon y"
   ]
  },
  {
   "cell_type": "markdown",
   "metadata": {},
   "source": [
    "Attention à ne pas confondre **nombre de mailles** et **nombre de points**.\n",
    "\n",
    "Typiquement, on a choisi de représenter l'intervalle continu $[0, L_x]$ par l'intervalle discret de points $\\llbracket 0, N_x \\rrbracket$. Ainsi, il y a bien $N_x$ **mailles**, de la forme $[x_i, x_{i+1}]$, mais **Nx + 1 points**.\n",
    "\n",
    "De même, selon y, il y a $N_y$ **mailles** et donc $N_y+1$ **points**."
   ]
  },
  {
   "cell_type": "code",
   "execution_count": 282,
   "metadata": {},
   "outputs": [],
   "source": [
    "dx = L_x/N_x # Taille d'une maille selon x\n",
    "dy = L_y/N_y # Taille d'une maille selon y"
   ]
  },
  {
   "cell_type": "markdown",
   "metadata": {},
   "source": [
    "### Paramètres physiques\n",
    "\n",
    "Posons d'abord les conditions limites de notre problème."
   ]
  },
  {
   "cell_type": "code",
   "execution_count": 283,
   "metadata": {},
   "outputs": [],
   "source": [
    "T_0 = 293.15  # Température initiale du corps étudié, en Kelvin (20 °C)\n",
    "\n",
    "# Il est conseillé de garder 20°C.\n",
    "\n",
    "# En effet, la conductivité thermique, la masse volumique et la capacité thermique \n",
    "# d'un corps sont thermosensibles, et plus loin on les prendra à 20°C pour le cuivre et l'eau.\n",
    "\n",
    "T_1 = 323.15  # Température imposée au bord y=0, en Kelvin (50°C)\n",
    "T_a = 273.15  # Température ambiante du fluide en x=Lx, en Kelvin (0°C)"
   ]
  },
  {
   "cell_type": "markdown",
   "metadata": {},
   "source": [
    "Profitons-en pour donner quelques valeurs courantes pour des corps physiques usuels. \n",
    "\n",
    "En vérité, toutes les grandeurs qui peuvent servir à caractériser le comportement thermique d'un matériau ($\\lambda$, $\\rho$, $c_p$) sont elles-même thermosensibles. Pour se simplifier la vie, on les supposera constantes et égales à leur valeur à 300 K.\n",
    "\n",
    "*(source : Transferts thermiques - J. Taine, F. Enguehard, E. Iacona - Éditions Dunod)*"
   ]
  },
  {
   "cell_type": "code",
   "execution_count": 284,
   "metadata": {},
   "outputs": [],
   "source": [
    "class CorpsPhysique:\n",
    "    def __init__(self, name, lambd, rho, cp):\n",
    "        self.name = name  # Nom du corps physique\n",
    "        self.lambd = lambd  # Conductivité thermique en W/(m·K)\n",
    "        self.rho = rho  # Densité en kg/m³\n",
    "        self.cp = cp  # Capacité thermique en J/(kg·K)\n",
    "    \n",
    "    def a(self):\n",
    "        return self.lambd / (self.rho * self.cp) # Diffusivité thermique en m²/s\n",
    "\n",
    "cuivre = CorpsPhysique(\"cuivre\", 399, 8954, 383)  # Cuivre à 20°C\n",
    "eau = CorpsPhysique(\"eau\", 0.585, 997, 4180)  # Eau à 20°C\n",
    "air = CorpsPhysique(\"air\", 0.0263, 1.1614, 1007)  # Air à 300 K\n",
    "\n",
    "# Pour rajouter de nouveaux corps physiques, c'est ici.\n"
   ]
  },
  {
   "cell_type": "markdown",
   "metadata": {},
   "source": [
    "Le calcul exact d'un coefficient de conducto-convection peut être délicat, et faire intervenir des nombres de Prandtl, Nusselt, la dilatation thermique et la gravité... Pour faire simple, nous imposerons un ordre de grandeur de h selon l'usage que l'on souhaite (h = 10 pour de la convection naturelle de l'air, h = 100 pour de la convection forcée de l'air, h = 1000 pour de la convection forcée de l'eau...)"
   ]
  },
  {
   "cell_type": "code",
   "execution_count": 285,
   "metadata": {},
   "outputs": [],
   "source": [
    "# Si on veut changer le coefficient de convection extérieure, c'est ici.\n",
    "h = 100 # en W/(m²·K)\n",
    "# Étrangement, la résolution analytique marche mal pour h = 1000.\n",
    "\n",
    "# Si on veut changer le corps étudié, c'est ici.\n",
    "corps = cuivre\n",
    "# Étrangement, la résolution analytique marche mal pour l'eau et l'air."
   ]
  },
  {
   "cell_type": "markdown",
   "metadata": {},
   "source": [
    "On peut en profiter pour réaliser un calcul du **nombre de Biot** selon chaque dimension : \n",
    "- $\\displaystyle Bi_x = \\frac{h L_x}{\\lambda}$\n",
    "\n",
    "- $\\displaystyle Bi_y = \\frac{h L_y}{\\lambda}$\n",
    "\n",
    "Ce nombre sans dimension évalue l'**importance de la convection par rapport à la conduction**, selon une dimension."
   ]
  },
  {
   "cell_type": "code",
   "execution_count": 286,
   "metadata": {},
   "outputs": [
    {
     "name": "stdout",
     "output_type": "stream",
     "text": [
      "Nombre de Biot selon x: 2.51\n",
      "Nombre de Biot selon y: 2.51\n"
     ]
    }
   ],
   "source": [
    "lambd = corps.lambd\n",
    "\n",
    "# Calcul du nombre de Biot selon x\n",
    "Bi_x = h * L_x / lambd\n",
    "print(f\"Nombre de Biot selon x: {Bi_x:.2f}\")\n",
    "\n",
    "# Calcul du nombre de Biot selon y\n",
    "Bi_y = h * L_y / lambd\n",
    "print(f\"Nombre de Biot selon y: {Bi_y:.2f}\")"
   ]
  },
  {
   "cell_type": "markdown",
   "metadata": {},
   "source": [
    "# Résolution numérique"
   ]
  },
  {
   "cell_type": "markdown",
   "metadata": {},
   "source": [
    "Nous allons implémenter la méthode ADI."
   ]
  },
  {
   "cell_type": "code",
   "execution_count": 287,
   "metadata": {},
   "outputs": [],
   "source": [
    "dt = 1 # Choix du pas de temps de notre simulation\n",
    "N_t = 1000 # Temps maximal de notre simulation"
   ]
  },
  {
   "cell_type": "code",
   "execution_count": 288,
   "metadata": {},
   "outputs": [
    {
     "name": "stdout",
     "output_type": "stream",
     "text": [
      "Temps caractéristique de conduction selon x: 859494.24\n",
      "Temps caractéristique de conduction selon y: 859494.24\n",
      "\n",
      "Temps caractéristique de convection selon x: 8594.94\n",
      "Temps caractéristique de convection selon y: 8594.94\n",
      "\n",
      "Nombre de Fourier selon x: 0.00012\n",
      "Nombre de Fourier selon y: 0.00012\n"
     ]
    }
   ],
   "source": [
    "a = corps.a()\n",
    "\n",
    "# Calcul du temps caractéristique de conduction selon x\n",
    "t_cond_x = L_x**2 / a\n",
    "print(f\"Temps caractéristique de conduction selon x: {t_cond_x:.2f}\")\n",
    "\n",
    "# Calcul du temps caractéristique de conduction selon y\n",
    "t_cond_y = L_y**2 / a\n",
    "print(f\"Temps caractéristique de conduction selon y: {t_cond_y:.2f}\")\n",
    "\n",
    "print()\n",
    "\n",
    "# Calcul du temps caractéristique de convection selon x\n",
    "t_conv_x = t_cond_x / h\n",
    "print(f\"Temps caractéristique de convection selon x: {t_conv_x:.2f}\")\n",
    "\n",
    "# Calcul du temps caractéristique de convection selon y\n",
    "t_conv_y = t_cond_y / h\n",
    "print(f\"Temps caractéristique de convection selon y: {t_conv_y:.2f}\")\n",
    "\n",
    "print()\n",
    "\n",
    "# Calcul du nombre de Fourier selon x\n",
    "Fo_x = a * dt / dx**2\n",
    "print(f\"Nombre de Fourier selon x: {Fo_x:.5f}\")\n",
    "\n",
    "# Calcul du nombre de Fourier selon y\n",
    "Fo_y = a * dt / dy**2\n",
    "print(f\"Nombre de Fourier selon y: {Fo_y:.5f}\")"
   ]
  },
  {
   "cell_type": "markdown",
   "metadata": {},
   "source": [
    "L'objectif de la méthode ADI est d'obtenir des matrices tridiagonales, qui sont particulièrement simples à inverser via l'algorithme TDMA. On le définit ici :"
   ]
  },
  {
   "cell_type": "code",
   "execution_count": 289,
   "metadata": {},
   "outputs": [],
   "source": [
    "def TDMA(sous_diag, diag, sur_diag, droite):\n",
    "    \"\"\"\n",
    "    Algorithme TDMA (ou algorithme de Thomas) pour résoudre un système de la forme Ax = b\n",
    "    où A est une matrice tridiagonale (avec comme diagonales sous_diag, diag et sur_diag)\n",
    "    et b est un vecteur (droite).\n",
    "    \"\"\"\n",
    "    a = np.copy(sous_diag)\n",
    "    b = np.copy(diag)\n",
    "    c = np.copy(sur_diag)\n",
    "    d = np.copy(droite)\n",
    "    \n",
    "    n = len(d)\n",
    "    w = np.zeros(n-1,float)\n",
    "    g = np.zeros(n, float)\n",
    "    x = np.zeros_like(d)\n",
    "\n",
    "    # Première étape : décomposition LU\n",
    "\n",
    "    w[0] = c[0]/b[0]\n",
    "    g[0] = d[0]/b[0]\n",
    "\n",
    "    for i in range(1,n-1):\n",
    "        w[i] = c[i]/(b[i] - a[i-1]*w[i-1])\n",
    "    for i in range(1,n):\n",
    "        g[i] = (d[i] - a[i-1]*g[i-1])/(b[i] - a[i-1]*w[i-1])\n",
    "    # x[n-1] = g[n-1]\n",
    "\n",
    "    # Deuxième étape : substitution en arrière\n",
    "    x[-1] = d[-1]\n",
    "    for i in range(n-2,-1,-1):\n",
    "        x[i] = g[i] - w[i]*x[i+1]\n",
    "\n",
    "    return x"
   ]
  },
  {
   "cell_type": "code",
   "execution_count": 290,
   "metadata": {},
   "outputs": [],
   "source": [
    "def compute_XY(_L_x = L_x, _L_y = L_y, _N_x = N_x, _N_y = N_y):\n",
    "    x_values = np.linspace(0, _L_x, _N_x + 1)\n",
    "    y_values = np.linspace(0, _L_y, _N_y + 1)\n",
    "    X, Y = np.meshgrid(x_values, y_values)\n",
    "    return X, Y\n",
    "\n",
    "X, Y = compute_XY()\n",
    "\n",
    "def plot_temperature(title, T, contour = True, _X = X, _Y = Y):\n",
    "    fig, ax = plt.subplots(figsize=(12, 6))\n",
    "    #if meshgrid:\n",
    "    #    im = ax.imshow(T, cmap='turbo', origin='lower', extent=[0, L_x, 0, L_y], edgecolors='k', linewidths=0.2)\n",
    "    #else:\n",
    "    im = ax.imshow(T, cmap='turbo', origin='lower', extent=[0, L_x, 0, L_y])\n",
    "    fig.colorbar(im, ax=ax, label='Température (K)', pad=0.1)\n",
    "    plt.title(title, fontsize = 16) \n",
    "    ax.set_xlabel('x', fontsize = 16)\n",
    "    ax.set_ylabel('y', fontsize = 16)\n",
    "\n",
    "    # Ajout des lignes de contour\n",
    "    if contour:\n",
    "        contours = ax.contour(_X, _Y, T, levels = [300, 305, 310, 315, 320, 321, 322, 323], linewidths= 1, colors=['white', 'black', 'black', 'black', 'white', 'black', 'black', 'black'])\n",
    "        ax.clabel(contours, inline=True, fontsize=12, fmt = '%d', inline_spacing = 10)"
   ]
  },
  {
   "cell_type": "markdown",
   "metadata": {},
   "source": [
    "On initialise ensuite le profil de température ```T``` en $t=0$.\n",
    "\n",
    "Attention ! Dans le fonctionnement de ```pyplot```, ```T[i,j]``` représentera la température en $T_{i,j}$, avec $i$ en **abscisse** et $y$ en **ordonnée**.\n",
    "\n",
    "Or, si on initialise un tableau numpy pour qu'il ait la taille ```(x1, x2)```, \n",
    "il aura alors ```x1``` **lignes** et ```x2``` **colonnes**.\n",
    "\n",
    "Cela va à l'encontre de l'intuition souhaitée ! On peut se référer au schéma pour s'en convaincre, on souhaite avoir ```N_y + 1``` lignes (ordonnées) et  ```N_x + 1``` colonnes (abscisses)"
   ]
  },
  {
   "cell_type": "code",
   "execution_count": 291,
   "metadata": {},
   "outputs": [],
   "source": [
    "# Initialisation en t=0\n",
    "T = np.full((N_y + 1, N_x + 1), T_0)\n",
    "\n",
    "# Conditions aux limites : dès que t>0, on impose T(x, 0) = T_1.\n",
    "# En fait c'est dans le format T[i,j] que c'est pas intuitif, bref.\n",
    "T[0, :] = T_1"
   ]
  },
  {
   "cell_type": "markdown",
   "metadata": {},
   "source": [
    "Nous allons en parallèle enregistrer chaque image afin de pouvoir faire une animation. Nous pouvons initialiser la figure avec le profil de température à l'état initial."
   ]
  },
  {
   "cell_type": "code",
   "execution_count": 292,
   "metadata": {},
   "outputs": [
    {
     "data": {
      "image/png": "[encoded data removed]",
      "text/plain": [
       "<Figure size 864x432 with 2 Axes>"
      ]
     },
     "metadata": {
      "needs_background": "light"
     },
     "output_type": "display_data"
    }
   ],
   "source": [
    "plot_temperature(\"Profil de température à l'état initial\", T, False, True)\n",
    "plt.show()"
   ]
  },
  {
   "cell_type": "markdown",
   "metadata": {},
   "source": [
    "La méthode ```ADI_method``` va ensuite prendre à chaque étape t la valeur du tableau à cet instant, et le modifier selon la méthode ADI."
   ]
  },
  {
   "cell_type": "code",
   "execution_count": 293,
   "metadata": {},
   "outputs": [],
   "source": [
    "def methode_ADI(_T = T):\n",
    "    t = 0\n",
    "\n",
    "    fig, ax = plt.subplots(figsize=(12, 6))  \n",
    "    im = ax.imshow(_T, cmap='turbo', origin='lower', extent=[0, L_x, 0, L_y])\n",
    "    fig.colorbar(im, ax=ax, label='Température (K)', pad=0.1)\n",
    "    ax.set_xlabel('x', fontsize = 16)\n",
    "    ax.set_ylabel('y', fontsize = 16)\n",
    "    title = ax.text(0.5, 1.05, f\"Profil de température à l'étape t = {t}\", size=plt.rcParams[\"axes.titlesize\"], ha=\"center\", transform=ax.transAxes)\n",
    "    images = [im, title]\n",
    "\n",
    "    while t < N_t:\n",
    "        T_n = np.copy(_T)\n",
    "        \n",
    "        # Étape 1 : résoudre dans la direction x\n",
    "        ab = np.zeros((3, N_x))\n",
    "        ab[0, 1:] = -Fo_x/2\n",
    "        ab[1, :] = 1 + Fo_x\n",
    "        ab[2, :-1] = -Fo_x/2\n",
    "        ab[1, -1] -= (Fo_x/2) * (h * dx / lambd)\n",
    "        ab[0, -1] = -Fo_x\n",
    "\n",
    "        for j in range(1, N_y + 1):\n",
    "            droite = T_n[j, :]\n",
    "            droite[-1] += (Fo_x/2) * (h * dx / lambd) * T_a\n",
    "\n",
    "            _T[j, :] = solve_banded((1, 1), ab, droite)\n",
    "\n",
    "        T_n_half = np.copy(_T)\n",
    "\n",
    "        # Étape 2 : résoudre dans la direction y\n",
    "        ab = np.zeros((3, N_y))\n",
    "        ab[0, 1:] = -Fo_y/2\n",
    "        ab[1, :] = 1 + Fo_y\n",
    "        ab[2, :-1] = -Fo_y/2\n",
    "\n",
    "        for i in range(0, N_x + 1):\n",
    "            droite = T_n_half[1:, i]\n",
    "            droite[0] += (Fo_y/2) * T_1\n",
    "\n",
    "            _T[1:, i] = solve_banded((1, 1), ab, droite)\n",
    "\n",
    "        # On incrémente le temps\n",
    "        t += dt\n",
    "\n",
    "        # On met à jour l'image à chaque étape\n",
    "        im = ax.imshow(_T, cmap='turbo', origin='lower', extent=[0, L_x, 0, L_y])\n",
    "\n",
    "        # Titre de la figure à l'instant t\n",
    "        title = ax.text(0.5, 1.05, f\"Profil de température à l'étape t = {t}\", size=plt.rcParams[\"axes.titlesize\"], ha=\"center\", transform=ax.transAxes)\n",
    "\n",
    "        images.append([im, title])\n",
    "\n",
    "    # Créer l'animation à partir des images\n",
    "    animatedPlot = animation.ArtistAnimation(fig, images, interval=50, blit=True)\n",
    "\n",
    "    # Enregistrer l'animation au format MP4\n",
    "    animatedPlot.save('animation.mp4', writer='ffmpeg')\n",
    "    \n",
    "    return _T"
   ]
  },
  {
   "cell_type": "code",
   "execution_count": 294,
   "metadata": {},
   "outputs": [
    {
     "ename": "IndexError",
     "evalue": "index 9 is out of bounds for axis 0 with size 9",
     "output_type": "error",
     "traceback": [
      "\u001b[1;31m---------------------------------------------------------------------------\u001b[0m",
      "\u001b[1;31mIndexError\u001b[0m                                Traceback (most recent call last)",
      "\u001b[1;32m<ipython-input-294-b842749aad0b>\u001b[0m in \u001b[0;36m<module>\u001b[1;34m\u001b[0m\n\u001b[1;32m----> 1\u001b[1;33m \u001b[0mT_numerique\u001b[0m \u001b[1;33m=\u001b[0m \u001b[0mmethode_ADI\u001b[0m\u001b[1;33m(\u001b[0m\u001b[1;33m)\u001b[0m\u001b[1;33m\u001b[0m\u001b[1;33m\u001b[0m\u001b[0m\n\u001b[0m\u001b[0;32m      2\u001b[0m \u001b[1;33m\u001b[0m\u001b[0m\n\u001b[0;32m      3\u001b[0m \u001b[0mplot_temperature\u001b[0m\u001b[1;33m(\u001b[0m\u001b[1;34mf'Profil numérique de la température après {N_t} étapes'\u001b[0m\u001b[1;33m,\u001b[0m \u001b[0mT_numerique\u001b[0m\u001b[1;33m)\u001b[0m\u001b[1;33m\u001b[0m\u001b[1;33m\u001b[0m\u001b[0m\n\u001b[0;32m      4\u001b[0m \u001b[0mplt\u001b[0m\u001b[1;33m.\u001b[0m\u001b[0mshow\u001b[0m\u001b[1;33m(\u001b[0m\u001b[1;33m)\u001b[0m\u001b[1;33m\u001b[0m\u001b[1;33m\u001b[0m\u001b[0m\n",
      "\u001b[1;32m<ipython-input-293-86d385089c98>\u001b[0m in \u001b[0;36mmethode_ADI\u001b[1;34m(_T)\u001b[0m\n\u001b[0;32m     27\u001b[0m             \u001b[0mdroite\u001b[0m\u001b[1;33m[\u001b[0m\u001b[1;33m-\u001b[0m\u001b[1;36m1\u001b[0m\u001b[1;33m]\u001b[0m \u001b[1;33m+=\u001b[0m \u001b[1;33m(\u001b[0m\u001b[0mFo_x\u001b[0m\u001b[1;33m/\u001b[0m\u001b[1;36m2\u001b[0m\u001b[1;33m)\u001b[0m \u001b[1;33m*\u001b[0m \u001b[1;33m(\u001b[0m\u001b[0mh\u001b[0m \u001b[1;33m*\u001b[0m \u001b[0mdx\u001b[0m \u001b[1;33m/\u001b[0m \u001b[0mlambd\u001b[0m\u001b[1;33m)\u001b[0m \u001b[1;33m*\u001b[0m \u001b[0mT_a\u001b[0m\u001b[1;33m\u001b[0m\u001b[1;33m\u001b[0m\u001b[0m\n\u001b[0;32m     28\u001b[0m \u001b[1;33m\u001b[0m\u001b[0m\n\u001b[1;32m---> 29\u001b[1;33m             \u001b[0m_T\u001b[0m\u001b[1;33m[\u001b[0m\u001b[0mj\u001b[0m\u001b[1;33m,\u001b[0m \u001b[1;33m:\u001b[0m\u001b[1;33m]\u001b[0m \u001b[1;33m=\u001b[0m \u001b[0mTDMA\u001b[0m\u001b[1;33m(\u001b[0m\u001b[0msous_diag\u001b[0m\u001b[1;33m,\u001b[0m \u001b[0mdiag\u001b[0m\u001b[1;33m,\u001b[0m \u001b[0msur_diag\u001b[0m\u001b[1;33m,\u001b[0m \u001b[0mdroite\u001b[0m\u001b[1;33m)\u001b[0m\u001b[1;33m\u001b[0m\u001b[1;33m\u001b[0m\u001b[0m\n\u001b[0m\u001b[0;32m     30\u001b[0m \u001b[1;33m\u001b[0m\u001b[0m\n\u001b[0;32m     31\u001b[0m         \u001b[0mT_n_half\u001b[0m \u001b[1;33m=\u001b[0m \u001b[0mnp\u001b[0m\u001b[1;33m.\u001b[0m\u001b[0mcopy\u001b[0m\u001b[1;33m(\u001b[0m\u001b[0m_T\u001b[0m\u001b[1;33m)\u001b[0m\u001b[1;33m\u001b[0m\u001b[1;33m\u001b[0m\u001b[0m\n",
      "\u001b[1;32m<ipython-input-289-1ccd81ddc607>\u001b[0m in \u001b[0;36mTDMA\u001b[1;34m(sous_diag, diag, sur_diag, droite)\u001b[0m\n\u001b[0;32m     21\u001b[0m \u001b[1;33m\u001b[0m\u001b[0m\n\u001b[0;32m     22\u001b[0m     \u001b[1;32mfor\u001b[0m \u001b[0mi\u001b[0m \u001b[1;32min\u001b[0m \u001b[0mrange\u001b[0m\u001b[1;33m(\u001b[0m\u001b[1;36m1\u001b[0m\u001b[1;33m,\u001b[0m\u001b[0mn\u001b[0m\u001b[1;33m-\u001b[0m\u001b[1;36m1\u001b[0m\u001b[1;33m)\u001b[0m\u001b[1;33m:\u001b[0m\u001b[1;33m\u001b[0m\u001b[1;33m\u001b[0m\u001b[0m\n\u001b[1;32m---> 23\u001b[1;33m         \u001b[0mw\u001b[0m\u001b[1;33m[\u001b[0m\u001b[0mi\u001b[0m\u001b[1;33m]\u001b[0m \u001b[1;33m=\u001b[0m \u001b[0mc\u001b[0m\u001b[1;33m[\u001b[0m\u001b[0mi\u001b[0m\u001b[1;33m]\u001b[0m\u001b[1;33m/\u001b[0m\u001b[1;33m(\u001b[0m\u001b[0mb\u001b[0m\u001b[1;33m[\u001b[0m\u001b[0mi\u001b[0m\u001b[1;33m]\u001b[0m \u001b[1;33m-\u001b[0m \u001b[0ma\u001b[0m\u001b[1;33m[\u001b[0m\u001b[0mi\u001b[0m\u001b[1;33m-\u001b[0m\u001b[1;36m1\u001b[0m\u001b[1;33m]\u001b[0m\u001b[1;33m*\u001b[0m\u001b[0mw\u001b[0m\u001b[1;33m[\u001b[0m\u001b[0mi\u001b[0m\u001b[1;33m-\u001b[0m\u001b[1;36m1\u001b[0m\u001b[1;33m]\u001b[0m\u001b[1;33m)\u001b[0m\u001b[1;33m\u001b[0m\u001b[1;33m\u001b[0m\u001b[0m\n\u001b[0m\u001b[0;32m     24\u001b[0m     \u001b[1;32mfor\u001b[0m \u001b[0mi\u001b[0m \u001b[1;32min\u001b[0m \u001b[0mrange\u001b[0m\u001b[1;33m(\u001b[0m\u001b[1;36m1\u001b[0m\u001b[1;33m,\u001b[0m\u001b[0mn\u001b[0m\u001b[1;33m)\u001b[0m\u001b[1;33m:\u001b[0m\u001b[1;33m\u001b[0m\u001b[1;33m\u001b[0m\u001b[0m\n\u001b[0;32m     25\u001b[0m         \u001b[0mg\u001b[0m\u001b[1;33m[\u001b[0m\u001b[0mi\u001b[0m\u001b[1;33m]\u001b[0m \u001b[1;33m=\u001b[0m \u001b[1;33m(\u001b[0m\u001b[0md\u001b[0m\u001b[1;33m[\u001b[0m\u001b[0mi\u001b[0m\u001b[1;33m]\u001b[0m \u001b[1;33m-\u001b[0m \u001b[0ma\u001b[0m\u001b[1;33m[\u001b[0m\u001b[0mi\u001b[0m\u001b[1;33m-\u001b[0m\u001b[1;36m1\u001b[0m\u001b[1;33m]\u001b[0m\u001b[1;33m*\u001b[0m\u001b[0mg\u001b[0m\u001b[1;33m[\u001b[0m\u001b[0mi\u001b[0m\u001b[1;33m-\u001b[0m\u001b[1;36m1\u001b[0m\u001b[1;33m]\u001b[0m\u001b[1;33m)\u001b[0m\u001b[1;33m/\u001b[0m\u001b[1;33m(\u001b[0m\u001b[0mb\u001b[0m\u001b[1;33m[\u001b[0m\u001b[0mi\u001b[0m\u001b[1;33m]\u001b[0m \u001b[1;33m-\u001b[0m \u001b[0ma\u001b[0m\u001b[1;33m[\u001b[0m\u001b[0mi\u001b[0m\u001b[1;33m-\u001b[0m\u001b[1;36m1\u001b[0m\u001b[1;33m]\u001b[0m\u001b[1;33m*\u001b[0m\u001b[0mw\u001b[0m\u001b[1;33m[\u001b[0m\u001b[0mi\u001b[0m\u001b[1;33m-\u001b[0m\u001b[1;36m1\u001b[0m\u001b[1;33m]\u001b[0m\u001b[1;33m)\u001b[0m\u001b[1;33m\u001b[0m\u001b[1;33m\u001b[0m\u001b[0m\n",
      "\u001b[1;31mIndexError\u001b[0m: index 9 is out of bounds for axis 0 with size 9"
     ]
    },
    {
     "data": {
      "image/png": "[encoded data removed]",
      "text/plain": [
       "<Figure size 864x432 with 2 Axes>"
      ]
     },
     "metadata": {
      "needs_background": "light"
     },
     "output_type": "display_data"
    }
   ],
   "source": [
    "T_numerique = methode_ADI()\n",
    "\n",
    "plot_temperature(f'Profil numérique de la température après {N_t} étapes', T_numerique)\n",
    "plt.show()"
   ]
  },
  {
   "cell_type": "markdown",
   "metadata": {},
   "source": [
    "# Résolution analytique"
   ]
  },
  {
   "cell_type": "markdown",
   "metadata": {},
   "source": [
    "L'énoncé indique que la solution analytique est donnée par la formule suivante :\n",
    "\n",
    "$\\displaystyle T(x,y) = T_a + \\frac{2h}{\\lambda} (T_1 - T_a) \\sum_{n=1}^\\infty \\frac{\\cos(\\alpha_n x) \\cosh(\\alpha_n (L_y - y))}{[(\\alpha_n^2 + \\beta^2) L_x + \\beta] \\cos(\\alpha_n L_x) \\cosh(\\alpha_n L_x)}$\n",
    "\n",
    "où $\\alpha_n$ désigne la nième solution positive de l'équation $\\alpha \\tan(L_x \\alpha) = \\beta = \\displaystyle \\frac{h}{\\lambda}$.\n",
    "\n",
    "Commençons donc par rédiger une fonction qui, à $n$ donné, permet d'obtenir $\\alpha_n$. C'est une équation non-linéaire, on est contraint d'utiliser un algorithme de résolution numérique."
   ]
  },
  {
   "cell_type": "code",
   "execution_count": null,
   "metadata": {},
   "outputs": [],
   "source": [
    "beta = h / lambd\n",
    "\n",
    "def f(alpha):\n",
    "    # Fonction dont on cherche les zéros\n",
    "    return alpha * np.tan(L_x * alpha) - beta"
   ]
  },
  {
   "cell_type": "markdown",
   "metadata": {},
   "source": [
    "C'est une équation non-linéaire, on va devoir utiliser un algorithme de résolution numérique.\n",
    "Le module ```scipy.optimize``` propose la fonction ```fsolve``` qui est une variante de l'algorithme de Newton-Raphson.\n",
    "De tels algorithmes ont besoin d'une **estimation initiale** de la solution avant de chercher.\n",
    "On peut montrer, avec les propriétés de la fonction $\\tan$, que : \n",
    "- la première racine de l'équation $f(a) = 0$ sera située avant $\\frac{\\pi}{2L_x}$, et que donc on peut commencer par placer le curseur à $\\frac{\\pi}{4L_x}$.\n",
    "- la $n$-ième racine sera proche de $\\frac{n \\pi}{L_x}$, et que donc ceci en constitue une bonne estimation."
   ]
  },
  {
   "cell_type": "code",
   "execution_count": null,
   "metadata": {},
   "outputs": [],
   "source": [
    "def n_premieres_solutions(n):\n",
    "    # Liste pour stocker les solutions\n",
    "    solutions = []\n",
    "\n",
    "    # Estimation initiale de la solution\n",
    "    x_0 = np.pi / (4 * L_x)\n",
    "    nb_solutions = 0\n",
    "\n",
    "    while nb_solutions < n:\n",
    "        solution = fsolve(f, x_0)[0]\n",
    "\n",
    "        # Si la solution est déjà dans la liste, l'ignorer\n",
    "        if solution in solutions:\n",
    "            x_0 += np.pi / L_x\n",
    "            continue\n",
    "\n",
    "        # Ajout de la solution à la liste\n",
    "        solutions.append(solution)\n",
    "\n",
    "        nb_solutions += 1\n",
    "        x_0 = nb_solutions * np.pi / L_x\n",
    "\n",
    "    return solutions\n",
    "\n",
    "# Étrangement, ce programme a du mal lorsqu'on met l'air comme matériau...\n",
    "# Un print des solutions peut aider à voir que les alpha_n sont n'importe quoi."
   ]
  },
  {
   "cell_type": "markdown",
   "metadata": {},
   "source": [
    "On a de quoi obtenir les $n$ premières valeurs de $\\alpha_n$. \n",
    "\n",
    "Rappelons qu'on cherche à calculer la série :\n",
    "\n",
    "$\\displaystyle T(x,y) = T_a + \\frac{2h}{\\lambda} (T_1 - T_a) \\sum_{n=1}^\\infty \\frac{\\cos(\\alpha_n x) \\cosh(\\alpha_n (L_y - y))}{[(\\alpha_n^2 + \\beta^2) L_x + \\beta] \\cos(\\alpha_n L_x) \\cosh(\\alpha_n L_x)}$\n",
    "\n",
    "Deux approches sont alors possibles pour calculer une somme s'approchant au plus de cette série :\n",
    "- On se fixe un nombre de termes ```N``` que l'on considère comme suffisamment grand. Par exemple, ```N = 100```.\n",
    "- On fait l'hypothèse que le terme général n'oscille pas trop et que donc, si l'on trouve une première occurence bornée par une tolérance donnée ```epsilon```, alors on peut s'arrêter là. "
   ]
  },
  {
   "cell_type": "code",
   "execution_count": null,
   "metadata": {},
   "outputs": [],
   "source": [
    "# On peut ici choisir si l'on préfère le mode \"jusqu'à N termes\" ou \"jusqu'à un terme epsilon\"\n",
    "type_boucle = \"while\" # ou \"for\"\n",
    "\n",
    "# Si on veut changer le nombre de termes de la série à calculer, c'est ici.\n",
    "N = 100\n",
    "\n",
    "# Si on veut changer la valeur à partir de laquelle on s'arrête de calculer des termes de la série, c'est ici.\n",
    "epsilon = 1e-3"
   ]
  },
  {
   "cell_type": "markdown",
   "metadata": {},
   "source": [
    "Cette série est donnée comme convergente, ainsi on sait que son terme général tend vers 0 et que donc, pour tout $\\varepsilon > 0$, il existe une valeur $N_\\varepsilon$ telle que le terme général devient dominé par $\\varepsilon$ à partir du terme $N_\\varepsilon$. Quelle que soit l'approche choisie, elle sera donc à peu près correcte, même si on ne réalise pas de preuve mathématique pour borner l'erreur. Procédons :"
   ]
  },
  {
   "cell_type": "code",
   "execution_count": null,
   "metadata": {},
   "outputs": [],
   "source": [
    "def serie(x, y, _L_x = L_x, _L_y = L_y, _beta = beta, _N = N, _epsilon = epsilon):\n",
    "    somme = 0\n",
    "    if type_boucle == \"for\":\n",
    "        liste_alphas = n_premieres_solutions(N)\n",
    "        for k in range(1, N+1):\n",
    "            alpha_k = liste_alphas[k-1]\n",
    "            terme_k = np.cos(alpha_k * x) * np.cosh(alpha_k * (_L_y - y)) / (((alpha_k**2 + _beta**2) * _L_x + _beta) * np.cos(alpha_k * _L_x) * np.cosh(alpha_k * _L_y))\n",
    "            somme += terme_k\n",
    "\n",
    "    elif type_boucle == \"while\":\n",
    "        k = 1\n",
    "        liste_alphas = n_premieres_solutions(N)\n",
    "        k_max = len(liste_alphas)\n",
    "\n",
    "        while True:\n",
    "            if k > k_max:\n",
    "                k_max *= 2\n",
    "                liste_alphas = n_premieres_solutions(k_max)\n",
    "            alpha_k = liste_alphas[k-1]\n",
    "            # Processus dynamique plus efficace pour le calcul de solutions que \n",
    "            # alpha_k = n_premieres_solutions(k)[-1] qui recalcule tout à chaque fois\n",
    "\n",
    "            terme_k = np.cos(alpha_k * x) * np.cosh(alpha_k * (_L_y - y)) / (((alpha_k**2 + _beta**2) * _L_x + _beta) * np.cos(alpha_k * _L_x) * np.cosh(alpha_k * _L_y))\n",
    "            if abs(terme_k) < _epsilon:\n",
    "                break\n",
    "            somme += terme_k\n",
    "            k += 1\n",
    "    else:\n",
    "        return \"Type de boucle non reconnu.\"\n",
    "    return somme\n",
    "\n",
    "def T_analytique(x, y, _h = h, _lambd = lambd, _T_1 = T_1, _T_a = T_a):\n",
    "    return _T_a + 2 * _h / _lambd * (_T_1 - _T_a) * serie(x, y)"
   ]
  },
  {
   "cell_type": "markdown",
   "metadata": {},
   "source": [
    "Ainsi, ```T_analytique(x,y)``` renvoie bien le $T(x,y)$ voulu, du moins avec une certaine précision."
   ]
  },
  {
   "cell_type": "code",
   "execution_count": null,
   "metadata": {},
   "outputs": [],
   "source": [
    "def compute_T_analytique(_X = X, _Y = Y):\n",
    "    T = np.vectorize(T_analytique)(X, Y)\n",
    "    return T\n",
    "\n",
    "T_analytique = compute_T_analytique()"
   ]
  },
  {
   "cell_type": "code",
   "execution_count": null,
   "metadata": {},
   "outputs": [
    {
     "data": {
      "image/png": "[encoded data removed]",
      "text/plain": [
       "<Figure size 864x432 with 2 Axes>"
      ]
     },
     "metadata": {
      "needs_background": "light"
     },
     "output_type": "display_data"
    }
   ],
   "source": [
    "plot_temperature('Profil analytique de la température en régime stationnaire', T_analytique)\n",
    "plt.show()"
   ]
  },
  {
   "cell_type": "markdown",
   "metadata": {},
   "source": [
    "Le profil observé est bien cohérent avec les conditions de notre problème : \n",
    "- la température est uniforme et maximale en $y=0$\n",
    "- et se refroidit graduellement avec un flux convectif en $x=L_x$. \n",
    "\n",
    "De plus, on voit grâce aux isovaleurs que le flux thermique normal aux murs isolants, en $x=0$ et en $y=L_y$, est bien nul."
   ]
  }
 ],
 "metadata": {
  "kernelspec": {
   "display_name": "Python 3",
   "language": "python",
   "name": "python3"
  },
  "language_info": {
   "codemirror_mode": {
    "name": "ipython",
    "version": 3
   },
   "file_extension": ".py",
   "mimetype": "text/x-python",
   "name": "python",
   "nbconvert_exporter": "python",
   "pygments_lexer": "ipython3",
   "version": "3.8.3"
  }
 },
 "nbformat": 4,
 "nbformat_minor": 2
}
